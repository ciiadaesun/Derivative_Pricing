{
 "cells": [
  {
   "cell_type": "markdown",
   "metadata": {},
   "source": [
    " ## Binomial Option Pricing and Implied Volatility"
   ]
  },
  {
   "cell_type": "code",
   "execution_count": 1,
   "metadata": {},
   "outputs": [],
   "source": [
    "import numpy as np\n",
    "import pandas as pd\n",
    "import matplotlib.pyplot as plt\n",
    "import datetime as dt\n",
    "import scipy.stats as sts\n",
    "from scipy.optimize import root"
   ]
  },
  {
   "cell_type": "markdown",
   "metadata": {},
   "source": [
    " ## BS Option Pricing Function"
   ]
  },
  {
   "cell_type": "code",
   "execution_count": 2,
   "metadata": {},
   "outputs": [],
   "source": [
    "class BS_euro_option :\n",
    "    def call(S, K, T, r, sigma, div = 0):\n",
    "\n",
    "        d1 = (np.log(S / K) + (r -div + 0.5 * sigma ** 2) * T) / (sigma * np.sqrt(T))\n",
    "        d2 = d1 - sigma * np.sqrt(T)\n",
    "        call = (S * sts.norm.cdf(d1, 0.0, 1.0) - K * np.exp(-r * T) * sts.norm.cdf(d2, 0.0, 1.0))\n",
    "\n",
    "        return call\n",
    "    \n",
    "    def put(S, K, T, r, sigma, div = 0):\n",
    "\n",
    "        d1 = (np.log(S / K) + (r -div + 0.5 * sigma ** 2) * T) / (sigma * np.sqrt(T))\n",
    "        d2 = d1 - sigma*np.sqrt(T)\n",
    "        put = (K * np.exp(-r * T) * sts.norm.cdf(-d2, 0.0, 1.0) - S * sts.norm.cdf(-d1, 0.0, 1.0))\n",
    "\n",
    "        return put"
   ]
  },
  {
   "cell_type": "code",
   "execution_count": 12,
   "metadata": {},
   "outputs": [
    {
     "data": {
      "text/plain": [
       "18.92039322427228"
      ]
     },
     "execution_count": 12,
     "metadata": {},
     "output_type": "execute_result"
    }
   ],
   "source": [
    "BS_euro_option.call(101.17, 100, 1, 0.01, 0.45)"
   ]
  },
  {
   "cell_type": "markdown",
   "metadata": {},
   "source": [
    " ## BS implied Vol"
   ]
  },
  {
   "cell_type": "code",
   "execution_count": 3,
   "metadata": {},
   "outputs": [],
   "source": [
    "class BS_implied_vol :\n",
    "    def call(S,K,T,r,div,Price) :\n",
    "        def fun(x,S,K,T,r,div,P) :\n",
    "            return BS_euro_option.call(S,K,T,r,x,div) - P\n",
    "        x0 = 0.5\n",
    "        x = root(fun, x0, args = (S, K, T, r, div, Price))\n",
    "        return x.x\n",
    "    def put(S,K,T,r,div,Price) :\n",
    "        def fun(x,S,K,T,r,div,P) :\n",
    "            return BS_euro_option.put(S,K,T,r,x,div) - P\n",
    "        x0 = 0.5\n",
    "        x = root(fun, x0, args = (S, K, T, r, div, Price))\n",
    "        return x.x"
   ]
  },
  {
   "cell_type": "code",
   "execution_count": 17,
   "metadata": {},
   "outputs": [
    {
     "data": {
      "text/plain": [
       "array([0.45])"
      ]
     },
     "execution_count": 17,
     "metadata": {},
     "output_type": "execute_result"
    }
   ],
   "source": [
    "BS_implied_vol.call(S = 101.17,K = 100,T = 1,r = 0.01,div = 0, Price = 18.9203932)"
   ]
  },
  {
   "cell_type": "markdown",
   "metadata": {},
   "source": [
    " # Binomial Option Pricing Function"
   ]
  },
  {
   "cell_type": "markdown",
   "metadata": {},
   "source": [
    "## Cox Ross rubinstein\n",
    "\\begin{align}\n",
    "\\ u = e^{\\sigma \\sqrt{\\Delta t} },\\\n",
    "\\ d = \\frac{1}{u} , \\\n",
    "\\ p = \\frac{e^{(r-\\delta)\\Delta t}\\ -d}{u-d} \\\n",
    "\\\\\n",
    "\\end{align}\n",
    "## Normal Step\n",
    "\\begin{align}\n",
    "\\ u = e^{(r-\\delta)\\Delta t + \\sigma \\sqrt{\\Delta t} },\\\n",
    "\\ d = e^{(r-\\delta)\\Delta t - \\sigma \\sqrt{\\Delta t} }, \\\n",
    "\\ p = \\frac{e^{(r-\\delta)\\Delta t}\\ -d}{u-d} \\\n",
    "\\end{align}\n",
    "## Stochastic Step\n",
    "\\begin{align}\n",
    "\\ u = e^{(r-\\delta-\\frac{1}{2} \\sigma^2 )\\Delta t + \\sigma \\sqrt{\\Delta t} },\\\n",
    "\\ d = e^{(r-\\delta-\\frac{1}{2} \\sigma^2 )\\Delta t - \\sigma \\sqrt{\\Delta t} } , \\\n",
    "\\ p = \\frac{e^{(r-\\delta)\\Delta t}\\ -d}{u-d} \\\n",
    "\\end{align}\n",
    "## Removing Nonlinearity (Leisen and Reimer 1996)\n",
    "\\begin{align}\n",
    "\\ p = h(d_2 ) , \\ p^{\\star} = h(d_1) \\\\\n",
    "\\\\\n",
    "\\ d_1 = \\frac{ln(S/K) + (r-\\delta + \\frac{1}{2} \\sigma^2 ) T \\ }{\\sigma \\sqrt{T}}, \\ d_2 = d_1 - \\sigma \\sqrt{T} \\\\ \\\\\n",
    "\\ h(x) = \\frac{1}{2} + sign(x) \\sqrt{\\frac{1}{4} - \\frac{1}{4}exp[-(\\frac{x}{N+\\frac{1}{3}})^2(N+\\frac{1}{6})]}\\\\\n",
    "\\ u = e^{(r-\\delta)\\Delta t  } \\frac{p^\\star}{p} ,\\\n",
    "\\ d =  \\frac{e^{(r-\\delta)\\Delta t  } - pu }{1-p} \\\n",
    "\\end{align}\n"
   ]
  },
  {
   "cell_type": "code",
   "execution_count": 4,
   "metadata": {},
   "outputs": [],
   "source": [
    "class Risk_neutral_u_d_p :\n",
    "    \n",
    "    ##########################################################################\n",
    "    # You have to select The Model of Stock Movement or Dividend Processing ##\n",
    "    ##########################################################################\n",
    "    def continuous_dividends(sigma, T, N, Model = 'CRR',div = 0, r=0) :\n",
    "        dt = T/N\n",
    "        if Model.lower() == 'crr' :\n",
    "            u = np.exp( sigma * np.sqrt(dt))\n",
    "            d = 1/u\n",
    "\n",
    "        elif Model.lower() == 'normal' :\n",
    "            u = np.exp( (r-div)*dt + sigma * np.sqrt(dt))\n",
    "            d = np.exp( (r-div)*dt - sigma * np.sqrt(dt))\n",
    "\n",
    "        else :\n",
    "            u = np.exp( (r-div-0.5*sigma**2)*dt + sigma * np.sqrt(dt))\n",
    "            d = np.exp( (r-div-0.5*sigma**2)*dt - sigma * np.sqrt(dt))\n",
    "            \n",
    "        p = (np.exp((r-div)*dt)-d)/(u-d)\n",
    "        \n",
    "        return u,d,p\n",
    "    \n",
    "    def Removing_nomlinearity(sigma,T,N,r , div = 0) :\n",
    "        dt = T/N\n",
    "        d1 = (np.log(S/K) + (r-div+0.5*sigma**2)*T) / (sigma * np.sqrt(T))\n",
    "        d2 = (np.log(S/K) + (r-div-0.5*sigma**2)*T) / (sigma * np.sqrt(T))\n",
    "        q_star = 0.5 + np.sign(d1) * np.sqrt( 0.25 - 0.25 * np.exp( - (d1/(N+1/3))**2 * (N+1/6)  )  ) \n",
    "        q = 0.5 + np.sign(d2) * np.sqrt( 0.25 - 0.25 * np.exp( - (d2/(N+1/3))**2 * (N+1/6)  )  ) \n",
    "        \n",
    "        u = np.exp( (r-div)*dt  ) * q_star/q\n",
    "        d = (np.exp(  (r-div)*dt ) - q*u)/(1-q)\n",
    "        p = (np.exp((r-div)*dt)-d)/(u-d)\n",
    "        return u, d, p\n",
    "    \n",
    "def make_S_tree_u_d_p(S,K,T,N,sigma,r , Model = 'CRR',div = 0 , Removing_nonlinearity = False) :\n",
    "\n",
    "    ####################################################\n",
    "    ## This Function is used to make the Stock's Tree ##\n",
    "    ####################################################\n",
    "    \n",
    "    dt = T/N\n",
    "    if  Removing_nonlinearity == False :\n",
    "        u,d,p = Risk_neutral_u_d_p.continuous_dividends(sigma = sigma , T = T , N = N , Model = Model , r = r, div = div)\n",
    "    elif Removing_nonlinearity == True :\n",
    "        u,d,p = Risk_neutral_u_d_p.Removing_nomlinearity(sigma = sigma , T = T , N = N  , r = r, div = div)\n",
    "\n",
    "    Temp = np.ones((N+1,N+1))\n",
    "    Temp[:,0] = 0\n",
    "    Temp1 = Temp.cumsum(1)\n",
    "    Te = Temp.copy()\n",
    "    Te[0,:] = 0\n",
    "    \n",
    "    num_u = np.triu(Temp1 - Te.cumsum(0))\n",
    "    num_d = np.triu(Temp1 - num_u)\n",
    "    S_Tree = S * np.triu((u**num_u) * (d**num_d))\n",
    "    return u,d,p ,S_Tree"
   ]
  },
  {
   "cell_type": "code",
   "execution_count": 5,
   "metadata": {},
   "outputs": [],
   "source": [
    "class binomial_option :\n",
    "    \n",
    "    def Call(S,K,T,N,sigma,r , Model = 'CRR' , div = 0 , Removing_nonlinearity = False) :        \n",
    "        u,d,p,S_Tree = make_S_tree_u_d_p(S,K,T,N,sigma,r , Model = Model, div= div , Removing_nonlinearity= Removing_nonlinearity)\n",
    "        \n",
    "        A = np.ones((N+1,1))\n",
    "        A[0] = 0\n",
    "        A = A.cumsum(0).astype(np.int64)\n",
    "        B = np.rot90(np.rot90(A))\n",
    "\n",
    "        C_exercise_Value = np.maximum( S_Tree - K , np.zeros(np.shape(S_Tree)))\n",
    "        C = (C_exercise_Value[:,-1:] * sts.binom.pmf(B, N, p).round(7)).sum()  *  np.exp(-r*T)\n",
    "        return C\n",
    "\n",
    "    def Put(S,K,T,N,sigma,r , Model = 'CRR', div = 0, Removing_nonlinearity = False) :        \n",
    "        u,d,p,S_Tree = make_S_tree_u_d_p(S,K,T,N,sigma,r , Model = Model, div = div , Removing_nonlinearity=Removing_nonlinearity)\n",
    "\n",
    "        A = np.ones((N+1,1))\n",
    "        A[0] = 0\n",
    "        A = A.cumsum(0).astype(np.int64)\n",
    "        B = np.rot90(np.rot90(A))\n",
    "\n",
    "        P_exercise_Value = np.maximum( K- S_Tree , np.zeros(np.shape(S_Tree)))\n",
    "        P = (P_exercise_Value[:,-1:] * sts.binom.pmf(B, N, p).round(7)).sum()  *  np.exp(-r*T)\n",
    "        return P\n",
    "    \n",
    "    def Tree_C(S,K,T,N,sigma,r,Model = 'CRR', div = 0, For_American = False , Removing_nonlinearity = False) :\n",
    "        u,d,p,S_Tree = make_S_tree_u_d_p(S,K,T,N,sigma,r , Model = Model,div = div , Removing_nonlinearity=Removing_nonlinearity)\n",
    "        A = np.ones((N+1,1))\n",
    "        A[0] = 0\n",
    "        A = A.cumsum(0).astype(np.int64)\n",
    "        B = np.rot90(np.rot90(A))        \n",
    "        C_exercise_Value = np.maximum( S_Tree - K , np.zeros(np.shape(S_Tree)))\n",
    "        Temp_array= np.zeros(S_Tree.shape)\n",
    "        dt = T/N\n",
    "        \n",
    "        if For_American == False :\n",
    "            Temp_array[:,0] = C_exercise_Value[:,-1]\n",
    "            for i in range(1,len(Temp_array)) :\n",
    "                Temp_array[:-i,i] = (Temp_array[ :-1, i-1] * p  + (1-p) * Temp_array[1:, i-1])[ :len(Temp_array) - i] * np.exp(-r * dt)        \n",
    "        else :\n",
    "            Temp_array[:,0] = C_exercise_Value[:,-1]\n",
    "            Temp_array[:-1,1] = BS_euro_option.call(S = S_Tree[:,-2][:-1] , K = K , T = dt, sigma = sigma, r = r)\n",
    "            for i in range(2,len(Temp_array)) :\n",
    "                Temp_array[:-i,i] = (Temp_array[ :-1, i-1] * p  + (1-p) * Temp_array[1:, i-1])[ :len(Temp_array) - i] * np.exp(-r * dt)        \n",
    "        Option_Value_Tree = Temp_array[:,::-1]\n",
    "        return Option_Value_Tree\n",
    "    \n",
    "    def Tree_P(S,K,T,N,sigma,r,Model = 'CRR', div = 0, For_American = False , Removing_nonlinearity = False) :\n",
    "        u,d,p,S_Tree = make_S_tree_u_d_p(S,K,T,N,sigma,r , Model = Model,div = div , Removing_nonlinearity= Removing_nonlinearity)\n",
    "        A = np.ones((N+1,1))\n",
    "        A[0] = 0\n",
    "        A = A.cumsum(0).astype(np.int64)\n",
    "        B = np.rot90(np.rot90(A))        \n",
    "        P_exercise_Value = np.maximum(  K - S_Tree , np.zeros(np.shape(S_Tree)))\n",
    "        Temp_array= np.zeros(S_Tree.shape)\n",
    "        dt = T/N\n",
    "        \n",
    "        if For_American == False :\n",
    "            Temp_array[:,0] = P_exercise_Value[:,-1]\n",
    "            for i in range(1,len(Temp_array)) :\n",
    "                Temp_array[:-i,i] = (Temp_array[ :-1, i-1] * p  + (1-p) * Temp_array[1:, i-1])[ :len(Temp_array) - i] * np.exp(-r * dt)        \n",
    "        else :\n",
    "            Temp_array[:,0] = P_exercise_Value[:,-1]\n",
    "            Temp_array[:-1,1] = BS_euro_option.put(S = S_Tree[:,-2][:-1] , K = K , T = dt, sigma = sigma, r = r)\n",
    "            for i in range(2,len(Temp_array)) :\n",
    "                Temp_array[:-i,i] = (Temp_array[ :-1, i-1] * p  + (1-p) * Temp_array[1:, i-1])[ :len(Temp_array) - i] * np.exp(-r * dt)        \n",
    "            \n",
    "        Option_Value_Tree = Temp_array[:,::-1]\n",
    "        return Option_Value_Tree\n",
    "\n",
    "    def American_C(S,K,T,N,sigma,r,Model = 'CRR', div = 0, Removing_nonlinearity = False) :\n",
    "        Option_Value_Tree =binomial_option.Tree_C(S,K,T,N,sigma,r,Model, div, For_American = True , Removing_nonlinearity = Removing_nonlinearity) \n",
    "        return Option_Value_Tree[0,0]\n",
    "    \n",
    "    def American_P(S,K,T,N,sigma,r,Model = 'CRR', div = 0, Removing_nonlinearity = False) :\n",
    "        Option_Value_Tree =binomial_option.Tree_P(S,K,T,N,sigma,r,Model, div, For_American = True , Removing_nonlinearity = Removing_nonlinearity) \n",
    "        return Option_Value_Tree[0,0]\n"
   ]
  },
  {
   "cell_type": "code",
   "execution_count": 6,
   "metadata": {},
   "outputs": [],
   "source": [
    "class Binomial_implied_vol :\n",
    "    def call(S,K,T,N,r ,Price, Model = 'CRR' , div = 0 , Removing_nonlinearity = False) :\n",
    "        def fun(x,S,K,T,N,r ,P, Model , div , Removing_nonlinearity ) :\n",
    "            return binomial_option.Call(S,K,T,N,x,r , Model , div , Removing_nonlinearity ) - P\n",
    "        x0 = 0.5\n",
    "        x = root(fun, x0, args = (S,K,T,N,r ,Price, Model , div , Removing_nonlinearity ))\n",
    "        return x.x\n",
    "    def put(S,K,T,N,r ,Price, Model = 'CRR' , div = 0 , Removing_nonlinearity = False) :\n",
    "        def fun(x,S,K,T,N,r ,P, Model , div , Removing_nonlinearity ) :\n",
    "            return binomial_option.Put(S,K,T,N,x,r , Model , div , Removing_nonlinearity ) - P\n",
    "        x0 = 0.5\n",
    "        x = root(fun, x0, args = (S,K,T,N,r ,Price, Model , div , Removing_nonlinearity ))\n",
    "        return x.x\n",
    "    def american_call(S,K,T,N,r ,Price, Model = 'CRR' , div = 0 , Removing_nonlinearity = False) :\n",
    "        def fun(x,S,K,T,N,r ,P, Model , div , Removing_nonlinearity ) :\n",
    "            return binomial_option.American_C(S,K,T,N,x,r , Model , div , Removing_nonlinearity ) - P\n",
    "        x0 = 0.5\n",
    "        x = root(fun, x0, args = (S,K,T,N,r ,Price, Model , div , Removing_nonlinearity ))\n",
    "        return x.x\n",
    "    def american_put(S,K,T,N,r ,Price, Model = 'CRR' , div = 0 , Removing_nonlinearity = False) :\n",
    "        def fun(x,S,K,T,N,r ,P, Model , div , Removing_nonlinearity ) :\n",
    "            return binomial_option.American_P(S,K,T,N,x,r , Model , div , Removing_nonlinearity ) - P\n",
    "        x0 = 0.5\n",
    "        x = root(fun, x0, args = (S,K,T,N,r ,Price, Model , div , Removing_nonlinearity ))\n",
    "        return x.x        \n",
    "        "
   ]
  },
  {
   "cell_type": "markdown",
   "metadata": {},
   "source": [
    " ## European Option Price"
   ]
  },
  {
   "cell_type": "code",
   "execution_count": 7,
   "metadata": {},
   "outputs": [
    {
     "data": {
      "text/plain": [
       "18.91521103498599"
      ]
     },
     "execution_count": 7,
     "metadata": {},
     "output_type": "execute_result"
    }
   ],
   "source": [
    "S = 101.17\n",
    "Model = 'CRR'\n",
    "div = 0\n",
    "Removing_nonlinearity = False\n",
    "K = 100\n",
    "r = 0.01\n",
    "sigma = 0.45\n",
    "T = 1\n",
    "N = 100\n",
    "Price = binomial_option.Call(S,K,T,N,sigma,r)\n",
    "Price"
   ]
  },
  {
   "cell_type": "markdown",
   "metadata": {},
   "source": [
    " ## Implied Vol of European Option"
   ]
  },
  {
   "cell_type": "code",
   "execution_count": 8,
   "metadata": {},
   "outputs": [
    {
     "data": {
      "text/plain": [
       "array([0.45])"
      ]
     },
     "execution_count": 8,
     "metadata": {},
     "output_type": "execute_result"
    }
   ],
   "source": [
    "Binomial_implied_vol.call(S,K,T,N,r,Price)"
   ]
  },
  {
   "cell_type": "markdown",
   "metadata": {},
   "source": [
    " ## American Option Price"
   ]
  },
  {
   "cell_type": "code",
   "execution_count": 9,
   "metadata": {},
   "outputs": [
    {
     "data": {
      "text/plain": [
       "18.93429906333072"
      ]
     },
     "execution_count": 9,
     "metadata": {},
     "output_type": "execute_result"
    }
   ],
   "source": [
    "Price2 = binomial_option.American_C(S,K,T,N,sigma,r)\n",
    "Price2"
   ]
  },
  {
   "cell_type": "markdown",
   "metadata": {},
   "source": [
    " ## Implied Vol of American Option"
   ]
  },
  {
   "cell_type": "code",
   "execution_count": 10,
   "metadata": {
    "scrolled": true
   },
   "outputs": [
    {
     "data": {
      "text/plain": [
       "array([0.45])"
      ]
     },
     "execution_count": 10,
     "metadata": {},
     "output_type": "execute_result"
    }
   ],
   "source": [
    "Binomial_implied_vol.american_call(S,K,T,N,r,Price2)"
   ]
  },
  {
   "cell_type": "code",
   "execution_count": null,
   "metadata": {},
   "outputs": [],
   "source": []
  }
 ],
 "metadata": {
  "kernelspec": {
   "display_name": "Python 3",
   "language": "python",
   "name": "python3"
  },
  "language_info": {
   "codemirror_mode": {
    "name": "ipython",
    "version": 3
   },
   "file_extension": ".py",
   "mimetype": "text/x-python",
   "name": "python",
   "nbconvert_exporter": "python",
   "pygments_lexer": "ipython3",
   "version": "3.8.5"
  }
 },
 "nbformat": 4,
 "nbformat_minor": 4
}
