{
 "cells": [
  {
   "cell_type": "code",
   "execution_count": 1,
   "metadata": {
    "scrolled": false
   },
   "outputs": [
    {
     "name": "stdout",
     "output_type": "stream",
     "text": [
      "C:\\Users\\USER\\수정용_파생상품평가\n"
     ]
    }
   ],
   "source": [
    "cd C:\\Users\\USER\\수정용_파생상품평가"
   ]
  },
  {
   "cell_type": "markdown",
   "metadata": {},
   "source": [
    " # 목차\n",
    " ### 1. Discount Function\n",
    " ### 2. Swap Rate and Old Swap Value\n",
    " ### 3. Forward Swap Rate and Swaption\n",
    "### 4. Caplet , Floorlet Pricing\n",
    " ### 5. Merton Credit Model\n",
    "  ### 6. Risky Bond Pricing or Riskless Bond Pricing\n",
    "  ### 7. YTM"
   ]
  },
  {
   "cell_type": "code",
   "execution_count": 2,
   "metadata": {},
   "outputs": [],
   "source": [
    "import numpy as np\n",
    "import pandas as pd\n",
    "import matplotlib.pyplot as plt\n",
    "from scipy.stats import norm\n",
    "from scipy.optimize import root"
   ]
  },
  {
   "cell_type": "code",
   "execution_count": 3,
   "metadata": {},
   "outputs": [],
   "source": [
    "discount_path = '이자율.xlsx'\n",
    "pricing_date = pd.to_datetime('2021-02-08')"
   ]
  },
  {
   "cell_type": "markdown",
   "metadata": {},
   "source": [
    "\n",
    " T-bill = 360 days : 1 years \n",
    " \n",
    " T-bond = 365 days : 1 years "
   ]
  },
  {
   "cell_type": "markdown",
   "metadata": {},
   "source": [
    " ### 1. Interpolated Discount"
   ]
  },
  {
   "cell_type": "code",
   "execution_count": 4,
   "metadata": {},
   "outputs": [],
   "source": [
    "one_years_day = lambda T : (T + pd.DateOffset(years = 1) - T).days\n",
    "def days_of_yearsT1T2(T1,T2) :\n",
    "    #############################\n",
    "    ## T-bill이면 1년은 360일  ##\n",
    "    ## T-bond면 1년은 365일    ##\n",
    "    #############################    \n",
    "    T1,T2 = pd.to_datetime(T1) , pd.to_datetime(T2)\n",
    "    if (T2-T1).days <= one_years_day(T1) :\n",
    "        return 360\n",
    "    else :\n",
    "        return 365\n",
    "\n",
    "def interpolated_discount(pricing_date , discount_path ):\n",
    "    ########################################\n",
    "    # 파일 경로 = discount_path            #\n",
    "    # 1. 파일 열고 Discount Value 불러오기 #\n",
    "    ########################################\n",
    "    df = pd.read_excel(discount_path,index_col = 0)\n",
    "    df.index = pd.to_datetime(df.index)\n",
    "    Discount = df['Discount']        \n",
    "    #######################################################\n",
    "    # r0 = 가장 빠른 날짜의 Discount의 금리를 사용        #\n",
    "    # discount = 일별 resample하고 log linear interpolate #\n",
    "    #######################################################\n",
    "    r0 = (1/Discount.iloc[0]-1) * 360/(Discount.index[0] - pricing_date).days\n",
    "    DF0 = 1/(1+r0*1/360)\n",
    "    Discount0 = pd.Series([DF0],index = [pricing_date + pd.DateOffset(days = 1)])\n",
    "    discount = np.exp(np.log(pd.concat([Discount0, Discount],axis = 0)).resample('D').last().interpolate(method = 'linear'))    \n",
    "    return discount\n",
    "\n",
    "def r_curve(pricing_date, discount) :\n",
    "    D_M = discount.resample('M').last()\n",
    "    #############################\n",
    "    # 엄밀하게 day_to_day 계산  #\n",
    "    # T-bill인지 bond인지 계산  #\n",
    "    #############################\n",
    "    days_T_to_T = pd.Series(D_M.index, index = D_M.index).apply(lambda x : (x -pricing_date).days  )\n",
    "    days_of_one_year = one_years_day(pricing_date)\n",
    "    T_fun = lambda x : 360 if (x - pricing_date).days <= days_of_one_year else 365 \n",
    "    T = pd.Series(D_M.index,index = D_M.index).apply(T_fun)\n",
    "    r_curve = (1/D_M)**(1/ (days_T_to_T/T)) -1\n",
    "    return r_curve"
   ]
  },
  {
   "cell_type": "code",
   "execution_count": 5,
   "metadata": {},
   "outputs": [],
   "source": [
    "discount = interpolated_discount(pricing_date , discount_path )"
   ]
  },
  {
   "cell_type": "markdown",
   "metadata": {},
   "source": [
    " ### 2. Forward Rate\n",
    " $$\n",
    " \\begin{array}{c}\n",
    " \\tau = T_2 - T_1 = \\frac{days \\ between \\ T_1 \\ to \\ T_2}{convention \\ of \\ days  \\ on\\ 1\\ years\\ ( 360\\  or\\ 365) } \\\\ \\\\\n",
    "\\\\\n",
    " F(0,T_1 T_2 ) = \\frac{1}{\\tau} [ \\frac{P(0,T_1 )}{P(0,T_2)} -1]\n",
    " \\end{array}\n",
    " $$"
   ]
  },
  {
   "cell_type": "code",
   "execution_count": 6,
   "metadata": {},
   "outputs": [],
   "source": [
    "def forward_rate_curve(pricing_date, discount, freq_month = 3) :\n",
    "    ##############################\n",
    "    ## 포워드 금리의 커브를 계산 #\n",
    "    ##############################\n",
    "    fixed_day = pricing_date.day\n",
    "    day_index = pd.date_range(pricing_date, end = discount.index[-1],\n",
    "                                freq = pd.DateOffset(months = freq_month, day = fixed_day))[1:]\n",
    "    DF = discount[day_index]\n",
    "    days_T1T2 = pd.Series(DF.index, index = DF.index).diff().apply(lambda x : x.days).iloc[1:]\n",
    "    days_of_1years = pd.Series(np.vectorize(days_of_yearsT1T2)(DF.index[:-1] , DF.index[1:]),\n",
    "                               index = days_T1T2.index)\n",
    "    tau = days_T1T2/days_of_1years\n",
    "    F_rate_ = 1/tau * (np.array(DF)[:-1] / np.array(DF)[1:] -1)\n",
    "    F_rate0 = (1/discount[day_index[0]]-1) * 360/(day_index[0]- pricing_date).days\n",
    "    forward_rate = pd.Series(np.concatenate([[F_rate0],F_rate_]), index = day_index)\n",
    "    return forward_rate\n",
    "\n",
    "def forward_rate(T_1 , T_2, discount) :\n",
    "    #####################################\n",
    "    ## T_1과 T_2 사이의 포워드금리 계산 #\n",
    "    #####################################\n",
    "    days_1year = days_of_yearsT1T2(T_1,T_2)\n",
    "    tau = (T_2-T_1).days/ days_1year\n",
    "    F_rate = 1/tau * (discount[T_1]/discount[T_2]-1)\n",
    "    return F_rate"
   ]
  },
  {
   "cell_type": "code",
   "execution_count": 7,
   "metadata": {},
   "outputs": [
    {
     "data": {
      "image/png": "[encoded data removed]",
      "text/plain": [
       "<Figure size 432x288 with 1 Axes>"
      ]
     },
     "metadata": {
      "needs_background": "light"
     },
     "output_type": "display_data"
    }
   ],
   "source": [
    "plt.plot(forward_rate_curve(pricing_date, discount, freq_month = 3)[:'2030-12-31'], label = 'zero_rate_curve')\n",
    "plt.plot(r_curve(pricing_date, discount)[:'2030-12-31'],label = 'forward_rate_curve')\n",
    "plt.legend()\n",
    "plt.show()"
   ]
  },
  {
   "cell_type": "markdown",
   "metadata": {},
   "source": [
    "### 3. Swap Rate and Old Swap Value\n",
    "#### Swap Rate\n",
    "\\begin{align}\n",
    " \\ S = \\frac{a}{b} \\\\ a = \\sum_{i=1}^{m}[P(0,t_{i-1}) e^{\\lambda \\Delta t_i} - P(0,t_{i})],\\ ( \\lambda = hazard \\ rate) \\\\ b = \\sum_{i=1}^{m} \\Delta t_i P(0,t_i) \\\n",
    " \\end{align}\n",
    "#### Old Swap Value\n",
    "\\begin{align}\n",
    " \\\\\\\\ V_{swap} = (s^\\star - s ) \\sum_{i=1}^{m} \\Delta t_i P(0,t_i) \\\\\n",
    " \\end{align}"
   ]
  },
  {
   "cell_type": "code",
   "execution_count": 8,
   "metadata": {},
   "outputs": [],
   "source": [
    "def calculate_PV_deltaT(pricing_date, discount, settle_day) : \n",
    "    ############################################ \n",
    "    ## 이자지급일의 PV와 Timedifference를 리턴 #\n",
    "    ############################################\n",
    "    PV = discount[settle_day]\n",
    "    PV0 = pd.Series([1], index = [pricing_date])\n",
    "    P = pd.concat([PV0,PV],axis =0)\n",
    "    days_T1T2 = pd.Series(P.index, index = P.index).diff().apply(lambda x : x.days).values\n",
    "    days_year_1 = np.vectorize(days_of_yearsT1T2)(P.index[:-1], P.index[1:])\n",
    "    days_year = np.concatenate([[np.nan], days_year_1])\n",
    "    delta_T = pd.Series(days_T1T2/days_year, index = P.index)\n",
    "    return P, delta_T\n",
    "\n",
    "def settlement_days(pricing_date, maturity , freq_month, settle_dates = None) :\n",
    "    ###########################################\n",
    "    ## settle_dates를 직접 넣어주지 않으면    #\n",
    "    ## 일괄적으로 maturity date 기준으로 계산 #\n",
    "    ###########################################\n",
    "    if settle_dates == None :\n",
    "        fixed_day = pd.to_datetime(maturity).day\n",
    "        settle_days = pd.date_range(pricing_date, end = maturity,\n",
    "                                  freq = pd.DateOffset(months = freq_month, day = fixed_day))[1:]\n",
    "    else :\n",
    "        settle_days = pd.to_datetime(settle_dates)\n",
    "    return settle_days\n",
    "\n",
    "def swap_rate(pricing_date, maturity, freq_month = 3, hazard_rate =0, settle_dates = None) :\n",
    "    ######################################## \n",
    "    ## 스왑의 payment 이자율을 계산해준다. #\n",
    "    ########################################    \n",
    "    lamb,  maturity  = hazard_rate, pd.to_datetime(maturity) \n",
    "    fixed_day = pricing_date.day\n",
    "    settle_day = settlement_days(pricing_date, maturity , freq_month, settle_dates = settle_dates)\n",
    "    P = pd.concat([pd.Series([1],index = [pricing_date]),discount.loc[settle_day]],axis = 0)\n",
    "    dT = (pd.Series(P.index, index = P.index).diff().apply(lambda x : x.days)/365).fillna((P.index[0] - pricing_date).days/365)\n",
    "    a = (P[:-1].values * np.exp(lamb * dT[1:].values) - P[1:].values).sum()\n",
    "    b = (P[1:].values * dT[1:].values).sum()\n",
    "    swap_rate = a/b\n",
    "    return swap_rate\n",
    "\n",
    "def old_swap_value(pricing_date, maturity,old_swap_rate , freq_month = 3, hazard_rate=0, Fixed_Payer = True, settle_dates = None) :\n",
    "    ############################################ \n",
    "    ## 기존에 계약했던 스왑의 지금 가치를 계산 #\n",
    "    ############################################    \n",
    "    S_old = old_swap_rate\n",
    "    sign = (-1)**(Fixed_Payer == False)\n",
    "    fixed_day = pricing_date.day\n",
    "    S_new = swap_rate(pricing_date, maturity, freq_month, hazard_rate)\n",
    "    settle_day = settlement_days(pricing_date, maturity , freq_month, settle_dates = settle_dates)\n",
    "    P, delta_T = calculate_PV_deltaT(pricing_date, discount, settle_day) \n",
    "    Swap_Value = sign * (S_new-S_old) * (P[1:] * delta_T[1:]).sum()\n",
    "    return Swap_Value"
   ]
  },
  {
   "cell_type": "code",
   "execution_count": 9,
   "metadata": {
    "scrolled": true
   },
   "outputs": [
    {
     "data": {
      "text/plain": [
       "0.006007991078958785"
      ]
     },
     "execution_count": 9,
     "metadata": {},
     "output_type": "execute_result"
    }
   ],
   "source": [
    "swap_rate(pricing_date, pricing_date + pd.DateOffset(years = 5), freq_month = 3, hazard_rate =0.000)"
   ]
  },
  {
   "cell_type": "code",
   "execution_count": 10,
   "metadata": {},
   "outputs": [
    {
     "data": {
      "text/plain": [
       "-0.004980943113342738"
      ]
     },
     "execution_count": 10,
     "metadata": {},
     "output_type": "execute_result"
    }
   ],
   "source": [
    "old_swap_value(pricing_date, pricing_date + pd.DateOffset(years = 5),old_swap_rate = 0.007 , freq_month = 3, hazard_rate=0, Fixed_Payer = True)"
   ]
  },
  {
   "cell_type": "markdown",
   "metadata": {},
   "source": [
    " #### Curve Calculation Example"
   ]
  },
  {
   "cell_type": "code",
   "execution_count": 11,
   "metadata": {},
   "outputs": [
    {
     "data": {
      "image/png": "[encoded data removed]",
      "text/plain": [
       "<Figure size 432x288 with 1 Axes>"
      ]
     },
     "metadata": {
      "needs_background": "light"
     },
     "output_type": "display_data"
    }
   ],
   "source": [
    "end_date = '2040-12-31'\n",
    "end_date = pd.to_datetime(end_date)\n",
    "ZRC = r_curve(pricing_date, discount)[:end_date]\n",
    "FRC = forward_rate_curve(pricing_date, discount, freq_month = 3)[:end_date]\n",
    "S_5 = swap_rate(pricing_date, pricing_date + pd.DateOffset(years = 5), freq_month = 3, hazard_rate =0)\n",
    "S_5_hazard = swap_rate(pricing_date, pricing_date + pd.DateOffset(years = 5), freq_month = 3, hazard_rate =0.003)\n",
    "plt.figure()\n",
    "plt.plot(ZRC, label = 'Zero_Rate')\n",
    "plt.plot(pd.Series([S_5]*len(ZRC.index), index = ZRC.index), label = 'Swap_Rate(T=5)')\n",
    "plt.plot(pd.Series([S_5_hazard]*len(ZRC.index), index = ZRC.index), label = 'Swap_Rate(T=5, hazard_rate = 25bp)')\n",
    "plt.plot(FRC, label = 'Forward_Rate')\n",
    "plt.legend(loc = 'best')\n",
    "plt.show()"
   ]
  },
  {
   "cell_type": "markdown",
   "metadata": {},
   "source": [
    " "
   ]
  },
  {
   "cell_type": "markdown",
   "metadata": {},
   "source": [
    "### 3. Forward Swap Rate and Swaption\n",
    "#### Forward Swap Rate\n",
    "\\begin{align}\n",
    "\\ T_0 = Forward\\ Maturity \\\\\n",
    "\\ T_0 + \\Delta T = Swap\\ Maturity \\\\ \\\\\n",
    " \\ FSR_0(T_0, tenor = \\Delta T) = \\frac{ P(0,T_0) - P(0,T_0 + \\Delta T)}{\\sum_{i=1}^{T_0 + \\Delta T} \\Delta t_i P(0,T_i)} \\\n",
    " \\end{align}\n",
    " \n",
    " #### Swaption\n",
    " \\begin{align}\n",
    " \\ V_0 = [FSR_0(T_0,  \\Delta T) N(d_1) - X N(d_2)] \\sum_{i=1}^{T_0 + \\Delta T} \\Delta T_i P(0, T_i) \\\n",
    " \\end{align}"
   ]
  },
  {
   "cell_type": "code",
   "execution_count": 12,
   "metadata": {},
   "outputs": [],
   "source": [
    "def forward_swap_rate(pricing_date, discount, forward_maturity,  tenor_with_years , freq_month = 3 , settle_dates = None) : \n",
    "    forward_maturity = pd.to_datetime(forward_maturity)\n",
    "    swap_maturity = forward_maturity + pd.DateOffset(months = int(12*tenor_with_years) )\n",
    "    fixed_day = pricing_date.day\n",
    "    settle_day = settlement_days(pricing_date, swap_maturity , freq_month, settle_dates = settle_dates)\n",
    "    P, delta_T = calculate_PV_deltaT(pricing_date, discount, settle_day)\n",
    "    P_T_0 = P[:forward_maturity].iloc[-1]\n",
    "    P_T_1 = P[:swap_maturity].iloc[-1]\n",
    "    denominator = (P[forward_maturity:swap_maturity].iloc[1:] * delta_T[forward_maturity:swap_maturity].iloc[1:]).sum()\n",
    "    numerator = P_T_0 - P_T_1\n",
    "    FSR = numerator/denominator\n",
    "    return FSR"
   ]
  },
  {
   "cell_type": "code",
   "execution_count": 13,
   "metadata": {},
   "outputs": [],
   "source": [
    "def swaption_pricing(pricing_date, discount, exercise_K, sigma, option_maturity, tenor_with_years ,\n",
    "                     freq_month = 3, settle_dates = None) :\n",
    "    K, forward_maturity = exercise_K , pd.to_datetime(option_maturity)   \n",
    "    swap_maturity = forward_maturity + pd.DateOffset(months = int(12*tenor_with_years) )\n",
    "    fixed_day = pricing_date.day\n",
    "    S = forward_swap_rate(pricing_date, discount, forward_maturity,  tenor_with_years , freq_month )\n",
    "    settle_day = settlement_days(pricing_date, swap_maturity , freq_month, settle_dates = settle_dates)\n",
    "    P, delta_T = calculate_PV_deltaT(pricing_date, discount, settle_day)\n",
    "    \n",
    "    T = (forward_maturity - pricing_date).days/one_years_day(pricing_date)\n",
    "    d1 = (np.log(S/K) + 0.5*sigma**2*T)/(sigma*np.sqrt(T))\n",
    "    d2 = d1 - sigma * np.sqrt(T)\n",
    "    Nd1, Nd2 = norm.cdf(d1), norm.cdf(d2)\n",
    "    sum_of_discount = (P[forward_maturity:swap_maturity].iloc[1:] * delta_T[forward_maturity:swap_maturity].iloc[1:]).sum()\n",
    "    V0 = (S * Nd1 - K * Nd2)  * sum_of_discount\n",
    "    return V0"
   ]
  },
  {
   "cell_type": "code",
   "execution_count": 14,
   "metadata": {},
   "outputs": [
    {
     "data": {
      "text/plain": [
       "0.002095006135914219"
      ]
     },
     "execution_count": 14,
     "metadata": {},
     "output_type": "execute_result"
    }
   ],
   "source": [
    "swaption_pricing(pricing_date, discount, 0.006, 0.2, '2021-03-26', 5 , freq_month = 3)"
   ]
  },
  {
   "cell_type": "markdown",
   "metadata": {},
   "source": [
    "### 4. Caplet , Floorlet Pricing\n",
    "#### Caplet, Floorlet\n",
    " \\begin{align}\n",
    " \\ c(0) = \\Delta T \\times P(0,T+\\Delta T) [ f_0(T,T+\\Delta T) N(d_1) - X N (d_2)]\\\n",
    " \\\\\n",
    " \\\\\n",
    " \\ p(0) = \\Delta T \\times P(0,T+\\Delta T) [ X N (-d_2) - f_0(T,T+\\Delta T) N(-d_1)]\\\n",
    " \\\\ \\\\ \\ d_1 = \\frac{ln( \\frac{f_0(T,T+\\Delta T)}{X} ) + \\frac{1}{2} \\sigma^2 T}{\\sigma \\sqrt{T}} , \\ d_2 = d_1 - \\sigma \\sqrt{T} \\\n",
    " \\end{align}"
   ]
  },
  {
   "cell_type": "code",
   "execution_count": 15,
   "metadata": {},
   "outputs": [],
   "source": [
    "def caplet_pricing(pricing_date, discount, exercise_K, sigma, option_maturity, tenor_with_years) :\n",
    "    T_1 = pd.to_datetime(option_maturity)\n",
    "    T_2 = T_1 + pd.DateOffset(months = int(12*tenor_with_years) )\n",
    "    Delta_T = (T_2 - T_1).days / days_of_yearsT1T2(T_1,T_2)\n",
    "    P_T_2 = discount[:T_2].iloc[-1]\n",
    "\n",
    "    T = (T_1 - pricing_date).days / 365\n",
    "    S = forward_rate(T_1 , T_2, discount)\n",
    "    d1 = (np.log(S/exercise_K) + 0.5*sigma**2*T)/(sigma*np.sqrt(T))\n",
    "    d2 = d1 - sigma*np.sqrt(T)\n",
    "\n",
    "    Nd1 = norm.cdf(d1)\n",
    "    Nd2 = norm.cdf(d2)\n",
    "    return Delta_T * P_T_2 * (S * Nd1 - exercise_K * Nd2)\n",
    "\n",
    "def floorlet_pricing(pricing_date, discount, exercise_K, sigma, option_maturity, tenor_with_years) :\n",
    "    T_1 = pd.to_datetime(option_maturity)\n",
    "    T_2 = T_1 + pd.DateOffset(months = int(12*tenor_with_years) )\n",
    "    Delta_T = (T_2 - T_1).days / days_of_yearsT1T2(T_1,T_2)\n",
    "    P_T_2 = discount[:T_2].iloc[-1]\n",
    "\n",
    "    T = (T_1 - pricing_date).days / 365\n",
    "    S = forward_rate(T_1 , T_2, discount)\n",
    "    d1 = (np.log(S/exercise_K) + 0.5*sigma**2*T)/(sigma*np.sqrt(T))\n",
    "    d2 = d1 - sigma*np.sqrt(T)\n",
    "\n",
    "    Nd1 = norm.cdf(d1)\n",
    "    Nd2 = norm.cdf(d2)\n",
    "    return Delta_T * P_T_2 * (exercise_K * (1-Nd2) - S * (1-Nd1) )"
   ]
  },
  {
   "cell_type": "code",
   "execution_count": 16,
   "metadata": {
    "scrolled": true
   },
   "outputs": [
    {
     "data": {
      "text/plain": [
       "0.001332180005500892"
      ]
     },
     "execution_count": 16,
     "metadata": {},
     "output_type": "execute_result"
    }
   ],
   "source": [
    "caplet_pricing(pricing_date, discount, 0.002, 0.2, option_maturity = '2023-03-26', tenor_with_years = 0.5)"
   ]
  },
  {
   "cell_type": "code",
   "execution_count": 17,
   "metadata": {},
   "outputs": [
    {
     "data": {
      "text/plain": [
       "0.00012576122034590814"
      ]
     },
     "execution_count": 17,
     "metadata": {},
     "output_type": "execute_result"
    }
   ],
   "source": [
    "floorlet_pricing(pricing_date, discount, 0.004, 0.2, option_maturity = '2023-03-26', tenor_with_years = 0.5)"
   ]
  },
  {
   "cell_type": "markdown",
   "metadata": {},
   "source": [
    " ### 5. Merton Credit Model\n",
    " \\begin{align}\n",
    " \\ E = A_{MKT} N(d_1) - F e^{-rT} N(d_2) .... ⓐ\\\\ \\\\\n",
    " \\ \\sigma_E = \\frac{A_{MKT}}{E} N(d_1) \\sigma_A.... ⓑ \\\\\n",
    " \\\\\n",
    " \\ Using \\ Simultanous \\ Equation \\\\\n",
    " \\ Find \\ Market \\ Value \\ of \\ Asset \\ and \\ Volatility\\ of \\ Asset \\ ( \\ \n",
    " A_{MKT} ,\\ \\sigma_E \\ ) \\\\ \\\\ PD = 1 - N( d_2 ) \\\n",
    " \\end{align}"
   ]
  },
  {
   "cell_type": "code",
   "execution_count": 18,
   "metadata": {},
   "outputs": [],
   "source": [
    "def Optimize_Merton(F,r,T,sigma_E,E_market_value) :\n",
    "    E_market = E_market_value\n",
    "    def EandsigmaE(x,F) :\n",
    "        sig_A = x[0]\n",
    "        A = x[1]\n",
    "        d1 = (np.log(A/F) + (r + 0.5 * sig_A**2)*T)/(sig_A * np.sqrt(T))\n",
    "        d2 = d1 - sig_A * np.sqrt(T)\n",
    "        Nd1 = norm.cdf(d1)\n",
    "        Nd2 = norm.cdf(d2)\n",
    "        E = A * Nd1 - F * np.exp(-r * T) * Nd2\n",
    "        sig_E = A/E * Nd1 * sig_A\n",
    "        return np.array([sig_E,E])\n",
    "    def fun(x,F,ans) :\n",
    "        return EandsigmaE(x,F) - ans\n",
    "\n",
    "    x0 = np.array([0.3, 10000])\n",
    "    ret = root(fun, x0, args = (F, np.array([sigma_E,E_market]) ) )\n",
    "    sigA, MV_Asset = ret.x[0], ret.x[1] ## Return sigA and Market Value of Asset\n",
    "    return np.round(sigA,4) , np.round(MV_Asset,4)\n",
    "\n",
    "def Merton_Debt_Value(F,r,T,sigma_E, E_market_value) :\n",
    "    sig_A , A = Optimize_Merton(F, r, T, sigma_E, E_market_value)\n",
    "    d1 = (np.log(A/F) + (r + 0.5 * sig_A**2)*T)/(sig_A * np.sqrt(T))\n",
    "    d2 = d1 - sig_A * np.sqrt(T)\n",
    "    Nd1 = norm.cdf(d1)\n",
    "    Nd2 = norm.cdf(d2)\n",
    "    E = A * Nd1 - F * np.exp(-r * T) * Nd2 \n",
    "    D = A-E\n",
    "    return D\n",
    "\n",
    "def Merton_Default_Prob(F,r,T,sigma_E, E_market_value) :\n",
    "    sig_A , A = Optimize_Merton(F, r, T, sigma_E, E_market_value)\n",
    "    d1 = (np.log(A/F) + (r + 0.5 * sig_A**2)*T)/(sig_A * np.sqrt(T))\n",
    "    d2 = d1 - sig_A * np.sqrt(T)\n",
    "    Nd1 = norm.cdf(d1)\n",
    "    Nd2 = norm.cdf(d2)\n",
    "    PD = 1 - Nd2\n",
    "    Annualized_PD = - 1/T * np.log(1-PD)\n",
    "    return Annualized_PD"
   ]
  },
  {
   "cell_type": "code",
   "execution_count": 19,
   "metadata": {},
   "outputs": [
    {
     "data": {
      "text/plain": [
       "0.003362667508384866"
      ]
     },
     "execution_count": 19,
     "metadata": {},
     "output_type": "execute_result"
    }
   ],
   "source": [
    "Merton_Default_Prob(F = 3000, r = 0.006, T = 5, sigma_E = 0.3, E_market_value = 5000)"
   ]
  },
  {
   "cell_type": "code",
   "execution_count": 20,
   "metadata": {
    "scrolled": true
   },
   "outputs": [
    {
     "data": {
      "text/plain": [
       "2904.821901686316"
      ]
     },
     "execution_count": 20,
     "metadata": {},
     "output_type": "execute_result"
    }
   ],
   "source": [
    "Merton_Debt_Value(F = 3000,r = 0.006,T = 5,sigma_E = 0.3, E_market_value = 5000)"
   ]
  },
  {
   "cell_type": "markdown",
   "metadata": {},
   "source": [
    " ### 6. Risky Bond Pricing or Riskless Bond Pricing\n",
    "#### Zero Coupon Bond\n",
    "\\begin{align}\n",
    " \\ Z(0,T) = e^{-(r+\\lambda)T} + RR \\bullet \\int_{0}^{T} P(0,t) d(-Q(0,t)) \n",
    " \\\\ =P(0,T) Q(0,T) + RR \\bullet \\sum_{i = 1}^{m} P(0,t_i)[Q(0,t_{i-1}) - Q(0,t_{i})] \\\n",
    " \\end{align}\n",
    "#### Coupon Bond\n",
    "\\begin{align}\n",
    "\\ CB = \\sum_{i=1}^{m}CF(t_i) \\bullet Z(0,t_i) \\\n",
    "\\end{align}\n",
    "\n",
    "#### if hazard rate and interest rate are constant to Time(T)\n",
    "$$\n",
    "\\begin{array}{c}\n",
    "\\hat{Z}(0,T) = e^{-(\\lambda + r)T} + \\frac{\\lambda \\bullet RR}{\\lambda + r}(1-e^{-(\\lambda + r)T} )\n",
    "\\end{array}\n",
    "$$"
   ]
  },
  {
   "cell_type": "code",
   "execution_count": 21,
   "metadata": {},
   "outputs": [],
   "source": [
    "def Zero_Bond_rigorous(pricing_date, maturity_date, discount, hazard_rate = 0 ,Recovery = 0, freq_month_of_hazard =1 , FV = 1) :\n",
    "    freq_month , RR =   freq_month_of_hazard,Recovery\n",
    "    maturity_date, pricing_date = pd.to_datetime(maturity_date), pd.to_datetime(pricing_date)\n",
    "    settle_day = pd.date_range(pricing_date, end = maturity_date,\n",
    "                                   freq = pd.DateOffset(months = freq_month, day = maturity_date.day))[1:]\n",
    "    P = discount[settle_day]\n",
    "    T = pd.Series((settle_day - pricing_date).days/365 , index = settle_day)\n",
    "    Q = np.exp(-hazard_rate *T )\n",
    "    P_0_T,Q_0_T = P.iloc[-1],Q.iloc[-1]\n",
    "    dQ = (-Q.diff()).fillna(1-Q.iloc[0])\n",
    "    return FV * (P_0_T * Q_0_T +RR * (P * dQ).sum())\n",
    "\n",
    "def Zero_Bond(pricing_date, maturity_date, discount, hazard_rate = 0,Recovery = 0, FV = 1) :\n",
    "    maturity_date, pricing_date = pd.to_datetime(maturity_date), pd.to_datetime(pricing_date)\n",
    "    RR = Recovery\n",
    "    T = (maturity_date - pricing_date).days/365\n",
    "    r = -1/T*np.log(discount[:maturity_date].iloc[-1])\n",
    "    P_0_T = discount[:maturity_date].iloc[-1]\n",
    "    P =  P_0_T* np.exp(-hazard_rate*T) + hazard_rate*RR/(hazard_rate+r) * (1-P_0_T * np.exp(-hazard_rate *T))\n",
    "    return P* FV\n",
    "\n",
    "def Coupon_Bond(pricing_date, maturity_date, discount, coupon_rate = 0, \n",
    "                Recovery = 0, hazard_rate = 0, coupon_freq_with_month = 6, \n",
    "                coupon_dates = None, FV = 1) :\n",
    "    maturity_date = pd.to_datetime(maturity_date)\n",
    "    coupon_day = settlement_days(pricing_date, maturity_date , coupon_freq_with_month, settle_dates = coupon_dates)\n",
    "    hazard = np.array(len(coupon_day) * [hazard_rate]) if type(hazard_rate) != np.ndarray  else hazard_rate\n",
    "    if coupon_dates == None : \n",
    "        dT = 1/int(365/pd.Series(coupon_day).diff().iloc[1:].mean().days + 0.5)\n",
    "    else :\n",
    "        dT = (coupon_freq_with_month/12)\n",
    "    PV_of_Coupon = 0    \n",
    "    for i in range(len(coupon_day)) :\n",
    "        PV_of_Coupon += coupon_rate * dT * Zero_Bond(pricing_date, coupon_day[i], discount, hazard_rate ,Recovery , FV)\n",
    "    PV_of_FV = Zero_Bond(pricing_date, maturity_date, discount, hazard_rate,Recovery, FV)\n",
    "    return np.round(PV_of_Coupon + PV_of_FV,6)"
   ]
  },
  {
   "cell_type": "markdown",
   "metadata": {},
   "source": [
    " #### If Coupon Rate == Swap Rate :\n",
    " #### 　Coupon Bond Price = 1"
   ]
  },
  {
   "cell_type": "code",
   "execution_count": 22,
   "metadata": {
    "scrolled": false
   },
   "outputs": [
    {
     "data": {
      "text/plain": [
       "99.953936"
      ]
     },
     "execution_count": 22,
     "metadata": {},
     "output_type": "execute_result"
    }
   ],
   "source": [
    "C_rate = swap_rate(pricing_date, maturity = '2023-03-26', freq_month = 6, hazard_rate =0, settle_dates = None)\n",
    "Coupon_Bond(pricing_date, '2023-03-26', discount, C_rate,coupon_freq_with_month = 6,FV = 100)"
   ]
  },
  {
   "cell_type": "code",
   "execution_count": 23,
   "metadata": {},
   "outputs": [
    {
     "data": {
      "text/plain": [
       "97.047494"
      ]
     },
     "execution_count": 23,
     "metadata": {},
     "output_type": "execute_result"
    }
   ],
   "source": [
    "Coupon_Bond(pricing_date, '2030-03-26', discount, coupon_rate = 0.015,coupon_freq_with_month = 6,FV = 100, hazard_rate = 0.0065)"
   ]
  },
  {
   "cell_type": "markdown",
   "metadata": {},
   "source": [
    " ### 7. Calculate YTM\n",
    " $$\n",
    " \\begin{align}\n",
    "\\ Price_{coupon \\ bond} = \\sum_{i=1}^{m}CF(t_i) \\bullet Z(0,t_i) \\\n",
    "\\end{align}\n",
    "$$\n",
    "\n",
    "\n",
    " $$\n",
    " \\begin{array}{c}\n",
    " Price_{coupon \\ bond} = \\sum_{t_1}^{T} \\frac{CF}{{(1+YTM)}^{t_n}}\n",
    " \\end{array}\n",
    " $$\n",
    " \n",
    " Using root Calculate YTM"
   ]
  },
  {
   "cell_type": "code",
   "execution_count": 24,
   "metadata": {},
   "outputs": [],
   "source": [
    "def zero_with_YTM(YTM, pricing_date, maturity_date, FV = 100) :\n",
    "    T = (pd.to_datetime(maturity_date) - pd.to_datetime(pricing_date) ).days/365\n",
    "    return FV/(1+YTM)**T\n",
    "\n",
    "def coupon_bond_with_YTM(pricing_date, maturity_date, coupon_rate, YTM,\n",
    "                         coupon_freq_with_month = 6,coupon_dates = None, FV = 100) :\n",
    "    coupon_day = pd.date_range(pricing_date, end = maturity_date,\n",
    "                                       freq = pd.DateOffset(months = coupon_freq_with_month, \n",
    "                                                            day = pd.to_datetime(maturity_date).day))[1:]\n",
    "    if coupon_dates == None : \n",
    "        dT = 1/int(365/pd.Series(coupon_day).diff().iloc[1:].mean().days + 0.5)\n",
    "    else :\n",
    "        dT = (coupon_freq_with_month/12)\n",
    "    PV_of_Coupon = coupon_rate * dT * np.array(zero_with_YTM(YTM, pricing_date, coupon_day, FV = FV))\n",
    "    PV_of_FV = zero_with_YTM(YTM, pricing_date, maturity_date, FV)\n",
    "    return PV_of_Coupon.sum() + PV_of_FV\n",
    "\n",
    "def calculate_YTM(pricing_date, maturity_date, coupon_rate, \n",
    "                  bond_price,coupon_freq_with_month = 6, coupon_dates = None, FV = 100) :\n",
    "    Price = bond_price\n",
    "    def fun(YTM,pricing_date, maturity_date, coupon_rate, \n",
    "            coupon_freq_with_month,coupon_dates, FV ,Price)  :\n",
    "        value = (coupon_bond_with_YTM(pricing_date, maturity_date, coupon_rate, YTM,\n",
    "                                      coupon_freq_with_month ,coupon_dates, FV) - Price)\n",
    "        return value\n",
    "    x0 = 0.03\n",
    "    x = root(fun,x0,args = (pricing_date,maturity_date,coupon_rate,\n",
    "                            coupon_freq_with_month,coupon_dates, FV, Price))\n",
    "    return x"
   ]
  },
  {
   "cell_type": "markdown",
   "metadata": {},
   "source": [
    " ## \n",
    " \n",
    " $$\n",
    " \\begin{array}{c}\n",
    " \\lambda = \\frac{R_{risky}\\ \\ - R_{rf}}{1-Recovery}\n",
    " \\end{array}\n",
    " $$"
   ]
  },
  {
   "cell_type": "code",
   "execution_count": 25,
   "metadata": {},
   "outputs": [],
   "source": [
    "maturity_date = '2030-03-26'\n",
    "coupon_rate = 0.014\n",
    "coupon_freq_with_month = 6\n",
    "FV = 100\n",
    "hazard_rate = 0.0065\n",
    "Recovery = 0.4\n",
    "Price_Risky = Coupon_Bond(pricing_date, maturity_date, discount, \n",
    "                          coupon_rate ,Recovery, hazard_rate,\n",
    "                          coupon_freq_with_month,coupon_dates = None, FV = FV)\n",
    "Price_Rf = Coupon_Bond(pricing_date, maturity_date, discount, \n",
    "                       coupon_rate ,1, 0 ,\n",
    "                       coupon_freq_with_month,coupon_dates = None, FV = FV)\n",
    "YTM_risky = calculate_YTM(pricing_date, maturity_date = maturity_date, coupon_rate = coupon_rate, \n",
    "                          bond_price = Price_Risky ,coupon_freq_with_month = coupon_freq_with_month, \n",
    "                          coupon_dates = None, FV = FV)\n",
    "YTM_rf = calculate_YTM(pricing_date, maturity_date = maturity_date, coupon_rate = coupon_rate, \n",
    "                       bond_price = Price_Rf ,coupon_freq_with_month = coupon_freq_with_month, coupon_dates = None, FV = FV)"
   ]
  },
  {
   "cell_type": "code",
   "execution_count": 26,
   "metadata": {},
   "outputs": [
    {
     "data": {
      "text/plain": [
       "array([0.00625919])"
      ]
     },
     "execution_count": 26,
     "metadata": {},
     "output_type": "execute_result"
    }
   ],
   "source": [
    "(YTM_risky.x - YTM_rf.x) / (1-Recovery)"
   ]
  },
  {
   "cell_type": "code",
   "execution_count": null,
   "metadata": {},
   "outputs": [],
   "source": []
  }
 ],
 "metadata": {
  "kernelspec": {
   "display_name": "Python 3",
   "language": "python",
   "name": "python3"
  },
  "language_info": {
   "codemirror_mode": {
    "name": "ipython",
    "version": 3
   },
   "file_extension": ".py",
   "mimetype": "text/x-python",
   "name": "python",
   "nbconvert_exporter": "python",
   "pygments_lexer": "ipython3",
   "version": "3.8.5"
  }
 },
 "nbformat": 4,
 "nbformat_minor": 4
}
