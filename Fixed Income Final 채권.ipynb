{
 "cells": [
  {
   "cell_type": "code",
   "execution_count": 1,
   "metadata": {},
   "outputs": [],
   "source": [
    "import numpy as np\n",
    "import pandas as pd\n",
    "import matplotlib.pyplot as plt\n",
    "from scipy.stats import norm\n",
    "from scipy.optimize import root"
   ]
  },
  {
   "cell_type": "markdown",
   "metadata": {},
   "source": [
    " # Params(you can adjust them)"
   ]
  },
  {
   "cell_type": "code",
   "execution_count": 2,
   "metadata": {},
   "outputs": [],
   "source": [
    "T = 2\n",
    "Delta_T = 0.25\n",
    "P = 1/ (1 + 0.005 + np.random.uniform(0,1,40)/200).cumprod()"
   ]
  },
  {
   "cell_type": "markdown",
   "metadata": {},
   "source": [
    " # Equity Duration"
   ]
  },
  {
   "cell_type": "code",
   "execution_count": 3,
   "metadata": {},
   "outputs": [],
   "source": [
    "def Duration_Equity(Asset, Debt , Du_A, Du_D) :\n",
    "    Equity = Asset-Debt\n",
    "    print('Du_E = ' +str(Asset)+ '/'+str(Equity) +' * ' +str(Du_A)+\n",
    "          ' - '+str(Debt)+ '/'+str(Equity) +'*'+str(Du_D))\n",
    "    Du_E = Asset/Equity * Du_A - Debt/Equity *Du_D\n",
    "    return Du_E"
   ]
  },
  {
   "cell_type": "code",
   "execution_count": 4,
   "metadata": {},
   "outputs": [
    {
     "name": "stdout",
     "output_type": "stream",
     "text": [
      "Du_E = 100/15 * 3 - 85/15*0.5\n"
     ]
    },
    {
     "data": {
      "text/plain": [
       "17.166666666666668"
      ]
     },
     "execution_count": 4,
     "metadata": {},
     "output_type": "execute_result"
    }
   ],
   "source": [
    "Duration_Equity(100,85,3,0.5)"
   ]
  },
  {
   "cell_type": "markdown",
   "metadata": {},
   "source": [
    " # Forward Rate Lecture"
   ]
  },
  {
   "cell_type": "code",
   "execution_count": 5,
   "metadata": {},
   "outputs": [],
   "source": [
    "def Forward_rate(P,T,Delta_T) : \n",
    "    n = int(T/Delta_T)\n",
    "    r0 = (1/np.array(P[0])-1)*1/Delta_T\n",
    "    F_rte = np.concatenate([[r0],1/Delta_T * (np.array(P[:n-1])/(np.array(P[1:n]))-1)])\n",
    "    return F_rte"
   ]
  },
  {
   "cell_type": "code",
   "execution_count": 6,
   "metadata": {},
   "outputs": [],
   "source": [
    "def Forward_rate_credit(P,T,Delta_T, lamb) :\n",
    "    n = int(T/Delta_T)\n",
    "    df = np.concatenate([[1],P])\n",
    "    return ((df * np.exp(lamb * Delta_T))[:n]/ df[1:n+1] - 1)/Delta_T"
   ]
  },
  {
   "cell_type": "code",
   "execution_count": 7,
   "metadata": {},
   "outputs": [
    {
     "data": {
      "text/plain": [
       "array([0.04040404, 0.04081633, 0.04123711, 0.04166667, 0.04210526,\n",
       "       0.04255319, 0.04301075, 0.04347826])"
      ]
     },
     "execution_count": 7,
     "metadata": {},
     "output_type": "execute_result"
    }
   ],
   "source": [
    "F_rate = Forward_rate([0.99, 0.98, 0.97, 0.96,0.95,0.94,0.93,0.92,0.91],2,0.25)\n",
    "F_rate"
   ]
  },
  {
   "cell_type": "code",
   "execution_count": 8,
   "metadata": {
    "scrolled": true
   },
   "outputs": [
    {
     "data": {
      "text/plain": [
       "array([0.02362886, 0.02380294, 0.03878519, 0.03871763, 0.0280449 ,\n",
       "       0.0387153 , 0.03893303, 0.03124691])"
      ]
     },
     "execution_count": 8,
     "metadata": {},
     "output_type": "execute_result"
    }
   ],
   "source": [
    "F_rate = Forward_rate(P,2,0.25)\n",
    "F_rate"
   ]
  },
  {
   "cell_type": "code",
   "execution_count": 9,
   "metadata": {},
   "outputs": [
    {
     "data": {
      "text/plain": [
       "array([0.02866154, 0.02883583, 0.04383683, 0.04376919, 0.0330831 ,\n",
       "       0.04376685, 0.04398486, 0.03628912])"
      ]
     },
     "execution_count": 9,
     "metadata": {},
     "output_type": "execute_result"
    }
   ],
   "source": [
    "F_rate_credit = Forward_rate_credit(P,2,Delta_T, 0.005)\n",
    "F_rate_credit"
   ]
  },
  {
   "cell_type": "markdown",
   "metadata": {},
   "source": [
    " # IRS"
   ]
  },
  {
   "cell_type": "code",
   "execution_count": 10,
   "metadata": {},
   "outputs": [],
   "source": [
    "def IRS(P,T, Delta_T) :\n",
    "    n = int(T/Delta_T)\n",
    "    a = 1-P[n-1]\n",
    "    b = 0\n",
    "    prin = '(' #formula string\n",
    "    for i in P[:n] :\n",
    "        b += Delta_T * i\n",
    "        prin +=( '[' + str(Delta_T)+'*'+ str(np.round(i,4) )+']+' )\n",
    "\n",
    "    print('             '+str(np.round(a,4))+'       \\n'+'s =  '+'-----------------------------------'*min((int(T)+1), 3)+'\\n      '+prin+ ')')\n",
    "    return np.round(a/b, 5)"
   ]
  },
  {
   "cell_type": "code",
   "execution_count": 11,
   "metadata": {},
   "outputs": [
    {
     "name": "stdout",
     "output_type": "stream",
     "text": [
      "             0.0872       \n",
      "s =  ---------------------------------------------------------------------------------------------------------\n",
      "      ([0.25*0.9941]+[0.25*0.9882]+[0.25*0.9788]+[0.25*0.9694]+[0.25*0.9626]+[0.25*0.9534]+[0.25*0.9442]+[0.25*0.9369]+[0.25*0.9308]+[0.25*0.9259]+[0.25*0.9188]+[0.25*0.9128]+)\n"
     ]
    },
    {
     "data": {
      "text/plain": [
       "0.03054"
      ]
     },
     "execution_count": 11,
     "metadata": {},
     "output_type": "execute_result"
    }
   ],
   "source": [
    "s = IRS(P,3,Delta_T)\n",
    "s"
   ]
  },
  {
   "cell_type": "markdown",
   "metadata": {},
   "source": [
    " # IRS credit"
   ]
  },
  {
   "cell_type": "code",
   "execution_count": 12,
   "metadata": {},
   "outputs": [],
   "source": [
    "def IRS_when_credit(P,T,Delta_T, lamb) :\n",
    "    a = 0\n",
    "    prin_a = '       '\n",
    "    n = int(T/Delta_T)\n",
    "    DF = P[:n]\n",
    "    DF_ = ([1] + list(DF))[:n]\n",
    "    for i, ii in zip(DF_, DF) :\n",
    "        a += i * np.exp(lamb*Delta_T) - ii \n",
    "        prin_a += '[' +str(np.round(i,3) ) + 'e^('+'lamb'+'*'+'dt' +')-'+ str(np.round(ii,3) ) + ']+'\n",
    "    prin_a += ']'\n",
    "\n",
    "    b = 0\n",
    "    prin = '        '\n",
    "    for i in P[:n] :\n",
    "        b += Delta_T * i\n",
    "        prin +=('[dt'+'*'+ str(np.round(i,3) )+']+' )\n",
    "    print(prin_a + '\\n' + 'S    =  ------------------------------------------------------------------------------------\\n'+prin)\n",
    "    return a/b\n",
    "\n",
    "def IRS_when_credit2(P,T,Delta_T, F_rate) :\n",
    "    a = 0\n",
    "    n = int(T/Delta_T)\n",
    "    prin_a = '      '\n",
    "    F = list(F_rate)[:n]\n",
    "    DF = P[:n]\n",
    "    for i , ii in zip(F,DF):\n",
    "        a += Delta_T * i * ii\n",
    "        prin_a += '[dt' + '*' + str(np.round(i,3) ) + '*'+str(np.round(ii,3) ) + ']+'\n",
    "    prin_a += ''\n",
    "    print(prin_a)\n",
    "    print()\n",
    "    print('s   =     '+'---------------------------------------------------------------------------------')\n",
    "    print()\n",
    "    b = 0\n",
    "    prin = '        '\n",
    "    for i in P[:n] :\n",
    "        b += Delta_T * i\n",
    "        prin +=('[dt'+'*'+ str(np.round(i,3) )+']+' )\n",
    "    print(prin)\n",
    "    return a/b\n"
   ]
  },
  {
   "cell_type": "code",
   "execution_count": 13,
   "metadata": {},
   "outputs": [],
   "source": [
    "def Old_Swap_Value(S_new, S_old, T, Delta_T, P, Duration_result =False) :\n",
    "    n = int(T/Delta_T)\n",
    "    print('(S_new - S_old) * sum( Delta_T * P) * 1 or -1 (Fixed_Payer = 1)' )\n",
    "    if Duration_result ==False :\n",
    "        return (S_new - S_old) * (np.array(P[:n]) * Delta_T).sum()\n",
    "    else : \n",
    "        return (S_new - S_old) * (np.array(P[:n]) * Delta_T).sum(), (np.array(P[:n]) * Delta_T).sum()"
   ]
  },
  {
   "cell_type": "code",
   "execution_count": 14,
   "metadata": {
    "scrolled": true
   },
   "outputs": [
    {
     "name": "stdout",
     "output_type": "stream",
     "text": [
      "       [1e^(lamb*dt)-0.994]+[0.994e^(lamb*dt)-0.988]+[0.988e^(lamb*dt)-0.979]+[0.979e^(lamb*dt)-0.969]+[0.969e^(lamb*dt)-0.963]+[0.963e^(lamb*dt)-0.953]+[0.953e^(lamb*dt)-0.944]+[0.944e^(lamb*dt)-0.937]+]\n",
      "S    =  ------------------------------------------------------------------------------------\n",
      "        [dt*0.994]+[dt*0.988]+[dt*0.979]+[dt*0.969]+[dt*0.963]+[dt*0.953]+[dt*0.944]+[dt*0.937]+\n"
     ]
    },
    {
     "data": {
      "text/plain": [
       "0.03771249302568779"
      ]
     },
     "execution_count": 14,
     "metadata": {},
     "output_type": "execute_result"
    }
   ],
   "source": [
    "IRS_credit_lamb = IRS_when_credit(P,2,Delta_T, lamb = 0.005)\n",
    "IRS_credit_lamb"
   ]
  },
  {
   "cell_type": "code",
   "execution_count": 15,
   "metadata": {},
   "outputs": [
    {
     "name": "stdout",
     "output_type": "stream",
     "text": [
      "      [dt*0.029*0.994]+[dt*0.029*0.988]+[dt*0.044*0.979]+[dt*0.044*0.969]+[dt*0.033*0.963]+[dt*0.044*0.953]+[dt*0.044*0.944]+[dt*0.036*0.937]+\n",
      "\n",
      "s   =     ---------------------------------------------------------------------------------\n",
      "\n",
      "        [dt*0.994]+[dt*0.988]+[dt*0.979]+[dt*0.969]+[dt*0.963]+[dt*0.953]+[dt*0.944]+[dt*0.937]+\n"
     ]
    },
    {
     "data": {
      "text/plain": [
       "0.037712493025687764"
      ]
     },
     "execution_count": 15,
     "metadata": {},
     "output_type": "execute_result"
    }
   ],
   "source": [
    "IRS_when_credit2(P,T,Delta_T, F_rate_credit)"
   ]
  },
  {
   "cell_type": "markdown",
   "metadata": {},
   "source": [
    " # Caplet, Floorlet Pricing"
   ]
  },
  {
   "cell_type": "code",
   "execution_count": 16,
   "metadata": {},
   "outputs": [],
   "source": [
    "def Caplet_Pricing(P,T,X,sigma,tenor, Delta_T_DF) :\n",
    "    F = (P[int(T/Delta_T_DF)-1]/P[int(T/Delta_T_DF) + int(tenor/Delta_T_DF)-1] - 1) * 1/tenor\n",
    "    P0 = P[int(T/Delta_T_DF) + int(tenor/Delta_T_DF)-1]\n",
    "    d1 = (np.log(F/X) + 0.5 * sigma**2 * T) / (sigma*np.sqrt(T))\n",
    "    d2 = d1 - sigma*np.sqrt(T)\n",
    "    Nd1 = norm.cdf(d1)\n",
    "    Nd2 = norm.cdf(d2)\n",
    "\n",
    "    print(' F = '+ str(np.round(F,5)) +'\\n'+'d1    =    ' + str(np.round(d1,4) ) + '\\n')\n",
    "    print('dT * P0 * (F N(d1) - X N(d2)) \\n='+str(tenor)+'*'+str(np.round(P0,4))+'*('+str(np.round(F,4))+'*'+str(np.round(Nd1,4))+' - '+str(X)+'*'+str(np.round(Nd2,4))+')')\n",
    "    return np.round( tenor * P0 * (F * Nd1 - X * Nd2)  , 6)\n",
    "\n",
    "def Floorlet_Pricing(P,T,X,sigma,tenor, Delta_T_DF) :\n",
    "    F = (P[int(T/Delta_T_DF)-1]/P[int(T/Delta_T_DF) + int(tenor/Delta_T_DF)-1] - 1) * 1/tenor\n",
    "    P0 = P[int(T/Delta_T_DF) + int(tenor/Delta_T_DF)-1]\n",
    "    d1 = (np.log(F/X) + 0.5 * sigma**2 * T) / (sigma*np.sqrt(T))\n",
    "    d2 = d1 - sigma*np.sqrt(T)\n",
    "    Nd1 = norm.cdf(d1)\n",
    "    Nd2 = norm.cdf(d2)\n",
    "    print(' F = ', np.round(F,5) ,'\\n')\n",
    "    print('d1    =    ' + str(np.round(d1,4) ) + '\\n')\n",
    "    print(tenor,'*',np.round(P0,4),'*(',np.round(X,4),'*',np.round( 1 - Nd2,4),' - ',np.round(F,4),'*',np.round( 1 - Nd1,4),')')\n",
    "    return np.round(tenor * P0 * (X * (1-Nd2) - F * (1-Nd1)), 6)"
   ]
  },
  {
   "cell_type": "code",
   "execution_count": 17,
   "metadata": {
    "scrolled": true
   },
   "outputs": [
    {
     "name": "stdout",
     "output_type": "stream",
     "text": [
      " F = 0.021\n",
      "d1    =    -0.8439\n",
      "\n",
      "dT * P0 * (F N(d1) - X N(d2)) \n",
      "=0.5*0.973*(0.021*0.1994 - 0.03*0.1163)\n"
     ]
    },
    {
     "data": {
      "text/plain": [
       "0.00034"
      ]
     },
     "execution_count": 17,
     "metadata": {},
     "output_type": "execute_result"
    }
   ],
   "source": [
    "Caplet_Pricing([0.992063,0.983215,0.972998,0.962412],T = 1,X = 0.03, sigma = 0.35, tenor = 0.5,Delta_T_DF = 0.5)\n"
   ]
  },
  {
   "cell_type": "code",
   "execution_count": 18,
   "metadata": {},
   "outputs": [
    {
     "name": "stdout",
     "output_type": "stream",
     "text": [
      " F =  0.021 \n",
      "\n",
      "d1    =    -0.8439\n",
      "\n",
      "0.5 * 0.973 *( 0.03 * 0.8837  -  0.021 * 0.8006 )\n"
     ]
    },
    {
     "data": {
      "text/plain": [
       "0.004718"
      ]
     },
     "execution_count": 18,
     "metadata": {},
     "output_type": "execute_result"
    }
   ],
   "source": [
    "Floorlet_Pricing([0.992063,0.983215,0.972998,0.962412],T = 1,X = 0.03, sigma = 0.35, tenor = 0.5,Delta_T_DF = 0.5)"
   ]
  },
  {
   "cell_type": "markdown",
   "metadata": {},
   "source": [
    " # Forward Swap Rate, Swaption"
   ]
  },
  {
   "cell_type": "code",
   "execution_count": 19,
   "metadata": {},
   "outputs": [],
   "source": [
    "def Forward_Swap_Rate(P, t0,tenor,Delta_T_DF,Delta_T_Swap ) : \n",
    "    P_t0 = P[int(t0/Delta_T_DF)-1]\n",
    "    P_tm = P[int( (t0+tenor)/Delta_T_DF )-1]\n",
    "    a = P_t0 - P_tm\n",
    "    b = (Delta_T_Swap * np.array(P[int(t0/Delta_T_DF) : int( (t0+tenor)/Delta_T_DF ):int(Delta_T_Swap / Delta_T_DF)])).sum()\n",
    "    return a/b"
   ]
  },
  {
   "cell_type": "code",
   "execution_count": 20,
   "metadata": {
    "scrolled": true
   },
   "outputs": [
    {
     "data": {
      "text/plain": [
       "0.02122324514649356"
      ]
     },
     "execution_count": 20,
     "metadata": {},
     "output_type": "execute_result"
    }
   ],
   "source": [
    "Forward_Swap_Rate([0.992063,0.983215,0.972998,0.962412,0.951], t0= 0.5,tenor= 2,Delta_T_DF= 0.5,Delta_T_Swap= 0.5)"
   ]
  },
  {
   "cell_type": "code",
   "execution_count": 21,
   "metadata": {},
   "outputs": [],
   "source": [
    "def swaption(P,X,sigma, t0= 2,tenor= 2,Delta_T_DF= 0.25,Delta_T_Swap= 0.5 ) :\n",
    "    FSR = Forward_Swap_Rate(P, t0,tenor,Delta_T_DF,Delta_T_Swap)\n",
    "    d1 = (np.log(FSR/X) + 0.5 * sigma**2 * t0)/(sigma*np.sqrt(t0))\n",
    "    d2 = d1-sigma*np.sqrt(t0)\n",
    "    Nd1 = norm.cdf(d1)\n",
    "    Nd2 = norm.cdf(d2)\n",
    "    \n",
    "    V = FSR * Nd1 - X * Nd2\n",
    "    mult = (P[int(t0/Delta_T_DF) : int( (t0+tenor) /Delta_T_DF ) : int(Delta_T_Swap/Delta_T_DF)] * Delta_T_Swap).sum()\n",
    "    print('Forward Swap Rate = ',np.round(FSR,4),'\\n swaptionvalue_per_year = ',np.round(V,6),'\\nDiscount Multiple = ',np.round(mult,4) )\n",
    "\n",
    "    return V*mult\n",
    "    "
   ]
  },
  {
   "cell_type": "code",
   "execution_count": 22,
   "metadata": {},
   "outputs": [
    {
     "name": "stdout",
     "output_type": "stream",
     "text": [
      "Forward Swap Rate =  0.0212 \n",
      " swaptionvalue_per_year =  0.001281 \n",
      "Discount Multiple =  1.9348\n"
     ]
    },
    {
     "data": {
      "text/plain": [
       "0.002477569028927858"
      ]
     },
     "execution_count": 22,
     "metadata": {},
     "output_type": "execute_result"
    }
   ],
   "source": [
    "swaption(np.array([0.992063, 0.983215, 0.972998, 0.962412, 0.951]),X = 0.02,\n",
    "         sigma = 0.07, t0= 0.5,tenor= 2,Delta_T_DF= 0.5,Delta_T_Swap= 0.5 )"
   ]
  },
  {
   "cell_type": "code",
   "execution_count": 23,
   "metadata": {},
   "outputs": [],
   "source": [
    "def zero_bond(P,T,Delta_T, lamb = 0.0008, RR = 0) :\n",
    "    if RR == 0 :\n",
    "        Mat = int(T/Delta_T)\n",
    "        surv = np.exp(-lamb * T)\n",
    "        price_zeroR = P[Mat-1] * surv\n",
    "        print('survP = '+str(surv) +'  ,  price_zeroR = '+ str(np.round(price_zeroR,4) ))\n",
    "        return price_zeroR\n",
    "    else :\n",
    "        Mat = int(T/Delta_T)\n",
    "        surv = np.exp(-lamb * T)\n",
    "        price_zeroR = P[Mat-1] * surv\n",
    "        \n",
    "        Q = np.exp(-lamb * np.arange(Delta_T, T+Delta_T, Delta_T))\n",
    "        dQ_ = np.concatenate([[1],Q])[:-1] - np.concatenate([[1],Q])[1:]\n",
    "        Z = P[:len(dQ_)]\n",
    "        DV = RR * (dQ_ * Z).sum()\n",
    "        print('survP = '+str(surv) +'  ,  price_bond = '+ str(np.round(price_zeroR,4) ) + '+' +str(np.round(DV,4) ))\n",
    "        return price_zeroR + DV\n",
    "        "
   ]
  },
  {
   "cell_type": "code",
   "execution_count": 24,
   "metadata": {
    "scrolled": false
   },
   "outputs": [
    {
     "name": "stdout",
     "output_type": "stream",
     "text": [
      "survP = 0.9950124791926823  ,  price_bond = 0.9896+0.004\n"
     ]
    },
    {
     "data": {
      "text/plain": [
       "0.9935380420965243"
      ]
     },
     "execution_count": 24,
     "metadata": {},
     "output_type": "execute_result"
    }
   ],
   "source": [
    "zero_bond(np.array([0.99453009,0.987616219,0.980385465,0.972483223]),\n",
    "          0.5,0.5,0.01,0.8)"
   ]
  },
  {
   "cell_type": "code",
   "execution_count": 25,
   "metadata": {},
   "outputs": [],
   "source": [
    "def Coupon_Bond(P,T,c,Delta_T_DF,Delta_T_C,lamb,RR,F=100) :\n",
    "    Coupon_sum = 0\n",
    "    for i in np.arange(Delta_T_C, T+Delta_T_C, Delta_T_C) :\n",
    "        Coupon_sum += (F * c * Delta_T_C *\n",
    "                       zero_bond(P,i, Delta_T = Delta_T_DF, lamb = lamb , RR = RR))\n",
    "    PV_principal = F * zero_bond(P,T,Delta_T = Delta_T_DF, lamb = lamb , RR = RR)\n",
    "    return Coupon_sum + PV_principal\n",
    "    "
   ]
  },
  {
   "cell_type": "code",
   "execution_count": 26,
   "metadata": {
    "scrolled": true
   },
   "outputs": [
    {
     "name": "stdout",
     "output_type": "stream",
     "text": [
      "survP = 0.9960079893439915  ,  price_bond = 0.9843+0.0016\n",
      "survP = 0.9920319148370607  ,  price_bond = 0.9616+0.0031\n",
      "survP = 0.9880717128619305  ,  price_bond = 0.942+0.0046\n",
      "survP = 0.9841273200552851  ,  price_bond = 0.922+0.0061\n",
      "survP = 0.9801986733067553  ,  price_bond = 0.9076+0.0076\n",
      "survP = 0.9762857097579093  ,  price_bond = 0.8912+0.009\n",
      "survP = 0.9762857097579093  ,  price_bond = 0.8912+0.009\n"
     ]
    },
    {
     "data": {
      "text/plain": [
       "99.04809836719332"
      ]
     },
     "execution_count": 26,
     "metadata": {},
     "output_type": "execute_result"
    }
   ],
   "source": [
    "Coupon_Bond(P,3,0.032,Delta_T_DF = Delta_T,Delta_T_C = 0.5,\n",
    "            lamb = 0.008,RR = 0.4,F=100)"
   ]
  },
  {
   "cell_type": "code",
   "execution_count": 27,
   "metadata": {},
   "outputs": [],
   "source": [
    "def Optimize_Merton(F,r,T,sigma_E,E_market) :\n",
    "    \n",
    "    def EandsigmaE(x,F) :\n",
    "        sig_A = x[0]\n",
    "        A = x[1]\n",
    "        d1 = (np.log(A/F) + (r + 0.5 * sig_A**2)*T)/(sig_A * np.sqrt(T))\n",
    "        d2 = d1 - sig_A * np.sqrt(T)\n",
    "        Nd1 = norm.cdf(d1)\n",
    "        Nd2 = norm.cdf(d2)\n",
    "        E = A * Nd1 - F * np.exp(-r * T) * Nd2 # r = 0.032, T = 2\n",
    "        sig_E = A/E * Nd1 * sig_A\n",
    "        return np.array([sig_E,E])\n",
    "    def fun(x,F,ans) :\n",
    "        return EandsigmaE(x,F) - ans\n",
    "\n",
    "    x0 = np.array([0.3, 10000])\n",
    "    ret = root(fun, x0, args = (F, np.array([sigma_E,E_market]) ) )\n",
    "    return np.round(ret.x[0],4) , np.round(ret.x[1],4)\n",
    "\n",
    "def Merton_Equity_Value(A,sig_A,r,T,F, sig_E_result = False) :\n",
    "    d1 = (np.log(A/F) + (r + 0.5 * sig_A**2)*T)/(sig_A * np.sqrt(T))\n",
    "    d2 = d1 - sig_A * np.sqrt(T)\n",
    "    Nd1 = norm.cdf(d1)\n",
    "    Nd2 = norm.cdf(d2)\n",
    "    E = A * Nd1 - F * np.exp(-r * T) * Nd2 # r = 0.032, T = 2\n",
    "\n",
    "    if sig_E_result == False :\n",
    "        return np.round(E,4)\n",
    "    else :\n",
    "        sig_E = A/E * Nd1 * sig_A\n",
    "        return np.round(E,4), np.round(sig_E,4)\n",
    "    \n",
    "def Merton_Debt_Value(A,sig_A,r,T,F) :\n",
    "    d1 = (np.log(A/F) + (r + 0.5 * sig_A**2)*T)/(sig_A * np.sqrt(T))\n",
    "    d2 = d1 - sig_A * np.sqrt(T)\n",
    "    Nd1 = norm.cdf(d1)\n",
    "    Nd2 = norm.cdf(d2)\n",
    "    E = A * Nd1 - F * np.exp(-r * T) * Nd2 # r = 0.032, T = 2\n",
    "    D = A-E\n",
    "    return np.round(D,4)\n",
    "\n",
    "def Merton_Credit_Spread(A,sig_A,r,T,F) :\n",
    "    d1 = (np.log(A/F) + (r + 0.5 * sig_A**2)*T)/(sig_A * np.sqrt(T))\n",
    "    d2 = d1 - sig_A * np.sqrt(T)\n",
    "    Nd1 = norm.cdf(d1)\n",
    "    Nd2 = norm.cdf(d2)\n",
    "    E = A * Nd1 - F * np.exp(-r * T) * Nd2 # r = 0.032, T = 2\n",
    "    D = A-E\n",
    "    Y = 1/T * np.log(F/D)\n",
    "    print(str(np.round(Y-r,4) )+' = '+str(np.round(Y,4) )+' - '+str(r))\n",
    "    return np.round(Y-r,4)\n",
    "\n"
   ]
  },
  {
   "cell_type": "code",
   "execution_count": 28,
   "metadata": {
    "scrolled": false
   },
   "outputs": [
    {
     "data": {
      "text/plain": [
       "(0.2473, 8324.8304)"
      ]
     },
     "execution_count": 28,
     "metadata": {},
     "output_type": "execute_result"
    }
   ],
   "source": [
    "Optimize_Merton(F = 3800,r = 0.023, T = 5,sigma_E = 0.4,E_market = 5000)"
   ]
  },
  {
   "cell_type": "code",
   "execution_count": 29,
   "metadata": {},
   "outputs": [
    {
     "data": {
      "text/plain": [
       "(6800.5015, 0.5608)"
      ]
     },
     "execution_count": 29,
     "metadata": {},
     "output_type": "execute_result"
    }
   ],
   "source": [
    "Merton_Equity_Value(A = 14090 , sig_A = 0.28, r = 0.032, T = 2, F = 7862, sig_E_result= True)"
   ]
  },
  {
   "cell_type": "code",
   "execution_count": 30,
   "metadata": {},
   "outputs": [
    {
     "data": {
      "text/plain": [
       "7289.4985"
      ]
     },
     "execution_count": 30,
     "metadata": {},
     "output_type": "execute_result"
    }
   ],
   "source": [
    "Merton_Debt_Value(A = 14090,sig_A = 0.28, r = 0.032, T = 2, F = 7862)"
   ]
  },
  {
   "cell_type": "code",
   "execution_count": 31,
   "metadata": {
    "scrolled": false
   },
   "outputs": [
    {
     "name": "stdout",
     "output_type": "stream",
     "text": [
      "0.0 = 0.011 - 0.011\n"
     ]
    },
    {
     "data": {
      "text/plain": [
       "0.0"
      ]
     },
     "execution_count": 31,
     "metadata": {},
     "output_type": "execute_result"
    }
   ],
   "source": [
    "Merton_Credit_Spread(A = 8798,sig_A = 0.227, r = 0.011, T = 0.5, F = 3800)"
   ]
  },
  {
   "cell_type": "code",
   "execution_count": 32,
   "metadata": {},
   "outputs": [],
   "source": [
    "Cum_PD = np.array([0.016477, 0.032682, 0.04862 , 0.064296, 0.079713, \n",
    "                   0.094876, 0.11   , 0.13  , 0.145 , 0.16, 0.19])"
   ]
  },
  {
   "cell_type": "code",
   "execution_count": 33,
   "metadata": {},
   "outputs": [],
   "source": [
    "def CDS_pricing(Cum_PD,P,T,Delta_T_CDS,Delta_T_DF, RR) :\n",
    "    Cum_PD = np.array(Cum_PD)\n",
    "    Suv_P = 1-Cum_PD\n",
    "    start = int(Delta_T_CDS/Delta_T_DF)-1\n",
    "    step = int(Delta_T_CDS/Delta_T_DF)\n",
    "    end = int(T/Delta_T_DF)\n",
    "    DF = P[start:end:step]\n",
    "    Q = np.concatenate([[1],Suv_P])[:int(T/Delta_T_CDS)+1]\n",
    "    dQ_ = (Q[:-1] - Q[1:])[:int(T/Delta_T_CDS)]\n",
    "    a = (DF * dQ_).sum()\n",
    "    b = (np.concatenate([[1],DF])[:int(T/Delta_T_CDS)]*\n",
    "         np.concatenate([[1],Suv_P])[:int(T/Delta_T_CDS)] ).sum()\n",
    "    Discount = np.concatenate([[1],DF])\n",
    "    print('Discount',Discount.round(4))\n",
    "    print()\n",
    "    print('Q       ',Q.round(4))\n",
    "    return a/b * (1-RR)"
   ]
  },
  {
   "cell_type": "code",
   "execution_count": 34,
   "metadata": {},
   "outputs": [],
   "source": [
    "def PV_of_CDS_premium(s,Q, P,T,Delta_T_CDS, Delta_T_DF) :\n",
    "    Q = Q[:int(T/Delta_T_CDS)]\n",
    "    PV = P[int(Delta_T_CDS/Delta_T_DF)-1:int(T/Delta_T_DF):int(Delta_T_CDS/Delta_T_DF)]\n",
    "    a = np.concatenate([[1], np.array(Q)])[:int(T/Delta_T_CDS)]\n",
    "    b = np.concatenate([[1], PV])[:int(T/Delta_T_CDS)]\n",
    "    print('s * sum(Q(0,i-1) * PV(i-1))')\n",
    "    return np.round(s * (a*b).sum() , 5)\n",
    "\n",
    "def PV_of_Protection_payout(P,T,Q,Delta_T_CDS, Delta_T_DF, RR = 0.4) :\n",
    "    dQ_ = (np.concatenate([[1],Q])[:-1] - np.concatenate([[1],Q])[1:])[:int(T/Delta_T_CDS)]\n",
    "    start = int(Delta_T_CDS/Delta_T_DF)-1\n",
    "    step = int(Delta_T_CDS/Delta_T_DF)\n",
    "    end = int(T/Delta_T_DF)\n",
    "    DF = P[start:end:step]\n",
    "    A = np.round((DF * dQ_).sum() * (1-RR), 5)\n",
    "    return A\n"
   ]
  },
  {
   "cell_type": "code",
   "execution_count": 35,
   "metadata": {
    "scrolled": true
   },
   "outputs": [
    {
     "name": "stdout",
     "output_type": "stream",
     "text": [
      "Discount [1.     0.9945 0.9876 0.9803]\n",
      "\n",
      "Q        [1.     0.9426 0.874  0.811 ]\n"
     ]
    },
    {
     "data": {
      "text/plain": [
       "0.06662734582897022"
      ]
     },
     "execution_count": 35,
     "metadata": {},
     "output_type": "execute_result"
    }
   ],
   "source": [
    "CDS_pricing([0.0574,0.126,0.189],\n",
    "            [0.99453009,0.98761622,0.98034,0.97248],\n",
    "            T= 1.5, Delta_T_CDS = 0.5, Delta_T_DF= 0.5, RR = 0)"
   ]
  },
  {
   "cell_type": "code",
   "execution_count": 36,
   "metadata": {},
   "outputs": [],
   "source": [
    "def Portfolio_default(PD, beta, maximum_theta = 1) :\n",
    "    x = np.arange(0.001,maximum_theta,0.001)\n",
    "    C = norm.ppf(PD)\n",
    "    return pd.DataFrame(norm.cdf( - (C-norm.ppf(x) * np.sqrt(1-beta**2))/beta  ) , index = x, columns = ['P(L<theta)'])\n",
    "\n",
    "def Portfolio_Loss(PD, beta, RR, maximum_theta = 1) :\n",
    "    x = np.arange(0.001,maximum_theta,0.001)\n",
    "    Loss_rate = 1-RR\n",
    "    C = norm.ppf(PD)\n",
    "    return pd.DataFrame(norm.cdf( - (C-norm.ppf( x / Loss_rate ) * np.sqrt(1-beta**2))/beta  ) , index = x, columns = ['P(Loss)'])\n",
    "\n",
    "def Portfolio_Loss2(PD, beta,RR, theta) :\n",
    "    C = norm.ppf(PD)\n",
    "    Loss_rate = 1-RR\n",
    "    return norm.cdf( - (C-norm.ppf(theta / Loss_rate) * np.sqrt(1-beta**2))/beta  ) "
   ]
  },
  {
   "cell_type": "code",
   "execution_count": 52,
   "metadata": {},
   "outputs": [
    {
     "data": {
      "text/html": [
       "<div>\n",
       "<style scoped>\n",
       "    .dataframe tbody tr th:only-of-type {\n",
       "        vertical-align: middle;\n",
       "    }\n",
       "\n",
       "    .dataframe tbody tr th {\n",
       "        vertical-align: top;\n",
       "    }\n",
       "\n",
       "    .dataframe thead th {\n",
       "        text-align: right;\n",
       "    }\n",
       "</style>\n",
       "<table border=\"1\" class=\"dataframe\">\n",
       "  <thead>\n",
       "    <tr style=\"text-align: right;\">\n",
       "      <th></th>\n",
       "      <th>P(Loss)</th>\n",
       "    </tr>\n",
       "  </thead>\n",
       "  <tbody>\n",
       "    <tr>\n",
       "      <th>0.010</th>\n",
       "      <td>0.670873</td>\n",
       "    </tr>\n",
       "    <tr>\n",
       "      <th>0.025</th>\n",
       "      <td>0.837074</td>\n",
       "    </tr>\n",
       "    <tr>\n",
       "      <th>0.040</th>\n",
       "      <td>0.902637</td>\n",
       "    </tr>\n",
       "    <tr>\n",
       "      <th>0.055</th>\n",
       "      <td>0.936882</td>\n",
       "    </tr>\n",
       "    <tr>\n",
       "      <th>0.070</th>\n",
       "      <td>0.957119</td>\n",
       "    </tr>\n",
       "    <tr>\n",
       "      <th>0.085</th>\n",
       "      <td>0.969966</td>\n",
       "    </tr>\n",
       "    <tr>\n",
       "      <th>0.100</th>\n",
       "      <td>0.978514</td>\n",
       "    </tr>\n",
       "    <tr>\n",
       "      <th>0.115</th>\n",
       "      <td>0.984393</td>\n",
       "    </tr>\n",
       "    <tr>\n",
       "      <th>0.130</th>\n",
       "      <td>0.988536</td>\n",
       "    </tr>\n",
       "    <tr>\n",
       "      <th>0.145</th>\n",
       "      <td>0.991510</td>\n",
       "    </tr>\n",
       "    <tr>\n",
       "      <th>0.160</th>\n",
       "      <td>0.993675</td>\n",
       "    </tr>\n",
       "    <tr>\n",
       "      <th>0.175</th>\n",
       "      <td>0.995268</td>\n",
       "    </tr>\n",
       "    <tr>\n",
       "      <th>0.190</th>\n",
       "      <td>0.996452</td>\n",
       "    </tr>\n",
       "    <tr>\n",
       "      <th>0.205</th>\n",
       "      <td>0.997336</td>\n",
       "    </tr>\n",
       "    <tr>\n",
       "      <th>0.220</th>\n",
       "      <td>0.997999</td>\n",
       "    </tr>\n",
       "    <tr>\n",
       "      <th>0.235</th>\n",
       "      <td>0.998499</td>\n",
       "    </tr>\n",
       "  </tbody>\n",
       "</table>\n",
       "</div>"
      ],
      "text/plain": [
       "        P(Loss)\n",
       "0.010  0.670873\n",
       "0.025  0.837074\n",
       "0.040  0.902637\n",
       "0.055  0.936882\n",
       "0.070  0.957119\n",
       "0.085  0.969966\n",
       "0.100  0.978514\n",
       "0.115  0.984393\n",
       "0.130  0.988536\n",
       "0.145  0.991510\n",
       "0.160  0.993675\n",
       "0.175  0.995268\n",
       "0.190  0.996452\n",
       "0.205  0.997336\n",
       "0.220  0.997999\n",
       "0.235  0.998499"
      ]
     },
     "execution_count": 52,
     "metadata": {},
     "output_type": "execute_result"
    }
   ],
   "source": [
    "beta = np.sqrt(0.35)\n",
    "Portfolio_Loss(0.024,beta,maximum_theta = 0.25, RR = 0.4).iloc[9::15]"
   ]
  },
  {
   "cell_type": "code",
   "execution_count": 38,
   "metadata": {},
   "outputs": [
    {
     "data": {
      "image/png": "[encoded data removed]",
      "text/plain": [
       "<Figure size 432x288 with 1 Axes>"
      ]
     },
     "metadata": {
      "needs_background": "light"
     },
     "output_type": "display_data"
    }
   ],
   "source": [
    "beta1 = 0.3\n",
    "beta2 = 0.6\n",
    "plt.plot(Portfolio_default(0.05,beta1,maximum_theta = 0.25), label = 'beta = '+str(beta1), color = 'blue')\n",
    "plt.plot(Portfolio_default(0.05,beta2,maximum_theta = 0.25), label = 'beta = '+str(beta2), color = 'red')\n",
    "plt.title('Large_Portfolio_Default_Distribution')\n",
    "plt.xlabel('Theta')\n",
    "plt.ylabel('Prob(default_number<Theta)')\n",
    "plt.legend(loc = 'best')\n",
    "plt.show()"
   ]
  },
  {
   "cell_type": "code",
   "execution_count": 39,
   "metadata": {},
   "outputs": [
    {
     "data": {
      "image/png": "[encoded data removed]",
      "text/plain": [
       "<Figure size 432x288 with 1 Axes>"
      ]
     },
     "metadata": {
      "needs_background": "light"
     },
     "output_type": "display_data"
    }
   ],
   "source": [
    "plt.title('Large_Portfolio_Loss_Distribution')\n",
    "plt.plot(Portfolio_Loss(0.05,beta1,RR = 0.4, maximum_theta = 0.3),\n",
    "         label = 'beta1 = '+str(beta1) , color = 'blue')\n",
    "plt.plot(Portfolio_Loss(0.05,beta2,RR = 0.4, maximum_theta = 0.3),\n",
    "         label = 'beta2 = '+str(beta2) , color = 'red')\n",
    "plt.legend(loc = 'best')\n",
    "plt.xlabel('Theta x ')\n",
    "plt.ylabel('Prob(Loss)')\n",
    "plt.show()"
   ]
  },
  {
   "cell_type": "code",
   "execution_count": 40,
   "metadata": {},
   "outputs": [],
   "source": [
    "def CDO_Equity_Ratio(PD, target_PD, beta, RR) :\n",
    "    Target_Surv = 1-target_PD\n",
    "    def fun2(x,PD,beta,RR,ans) :\n",
    "        return Portfolio_Loss2(PD,beta,RR,x) - ans\n",
    "\n",
    "    x0 = 0.03\n",
    "    ret0 = root(fun2 , x0, args = (PD,beta ,RR,Target_Surv))\n",
    "    return ret0.x"
   ]
  },
  {
   "cell_type": "code",
   "execution_count": 41,
   "metadata": {},
   "outputs": [
    {
     "data": {
      "text/plain": [
       "array([0.03600501])"
      ]
     },
     "execution_count": 41,
     "metadata": {},
     "output_type": "execute_result"
    }
   ],
   "source": [
    "CDO_Equity_Ratio(0.024, 0.0683, 0.35, 0.4)"
   ]
  },
  {
   "cell_type": "code",
   "execution_count": 42,
   "metadata": {},
   "outputs": [],
   "source": [
    "def Pricing_Treasury(C_rate, T, P, Delta_T_DF , Delta_T_Coupon,\n",
    "                     Duration_ = False, Convexity = False) :\n",
    "    start = int(Delta_T_Coupon/Delta_T_DF)-1\n",
    "    step = int(Delta_T_Coupon/Delta_T_DF)\n",
    "    end = int(T/Delta_T_DF)\n",
    "    DF = P[start:end:step]\n",
    "    PV = (DF * C_rate * Delta_T_Coupon).sum() + DF[-1]\n",
    "    if Duration_ == False :\n",
    "        return PV\n",
    "    elif Duration_ == True : \n",
    "        w = np.arange(Delta_T_Coupon, T+Delta_T_Coupon, Delta_T_Coupon)\n",
    "        Duration = 1/PV * (DF * C_rate * Delta_T_Coupon * w ).sum() + w[-1] * DF[-1]\n",
    "        if Convexity == False :\n",
    "            return PV, Duration\n",
    "        else :\n",
    "            w2 = w**2\n",
    "            Conv = 1/PV * (DF * C_rate * Delta_T_Coupon * w2).sum() + w2[-1] * DF[-1]\n",
    "            return PV, Duration, Conv\n",
    "    \n",
    "def IFRN(C_rate, P, T, Delta_T) :\n",
    "    print('               IRS     \\n')\n",
    "    s = IRS(P, T, Delta_T = Delta_T)\n",
    "    print()\n",
    "    print(' OSV')\n",
    "    OSV = Old_Swap_Value(C_rate, s, T, Delta_T, P)\n",
    "    print()\n",
    "    print('OSV = ', OSV)\n",
    "    print()\n",
    "    PV = P[int(T/Delta_T)-1]\n",
    "    print('IFRN = ' + 'Old Swap Value + PV(0,T)')\n",
    "    return OSV+PV\n",
    "def IFRN_Duration(C_rate, C_Treasury, P, T, Delta_T) :\n",
    "    P_Treasury, D = Pricing_Treasury(C_Treasury, T, P, Delta_T , Delta_T, True)\n",
    "    P_IFRN = IFRN(C_rate, P, T, Delta_T)\n",
    "    D_IFRN =  (2 * P_Treasury)/P_IFRN * D - 1/P_IFRN * Delta_T\n",
    "    print('D_IFRN = 2x'+str(P_Treasury)+'/'+str(P_IFRN) +'x'+str(np.round(D,4) )+ ' - '+'1/'+str(P_IFRN) +'x'+str(Delta_T))\n",
    "    return D_IFRN\n",
    "\n",
    "def IFRN_Convexity(C_rate, C_Treasury, P, T, Delta_T) :\n",
    "    P_Treasury, D , Con = Pricing_Treasury(C_Treasury, T, P, Delta_T ,\n",
    "                                           Delta_T, True, True)\n",
    "    P_IFRN = IFRN(C_rate, P, T, Delta_T)\n",
    "    C_IFRN =  (2 * P_Treasury)/P_IFRN * Con - 1/P_IFRN * Delta_T**2\n",
    "    print('C_IFRN = 2x'+str(P_Treasury)+'/'+str(P_IFRN) +'x'+str(np.round(Con,4) )+ ' - '+'1/'+str(P_IFRN) +'x'+str(Delta_T)+'^2')\n",
    "    return C_IFRN\n",
    "\n"
   ]
  },
  {
   "cell_type": "code",
   "execution_count": 43,
   "metadata": {
    "scrolled": true
   },
   "outputs": [
    {
     "name": "stdout",
     "output_type": "stream",
     "text": [
      "               IRS     \n",
      "\n",
      "             0.0306       \n",
      "s =  ---------------------------------------------------------------------------------------------------------\n",
      "      ([0.5*0.9941]+[0.5*0.9882]+[0.5*0.9788]+[0.5*0.9694]+)\n",
      "\n",
      " OSV\n",
      "(S_new - S_old) * sum( Delta_T * P) * 1 or -1 (Fixed_Payer = 1)\n",
      "\n",
      "OSV =  0.1266015318252314\n",
      "\n",
      "IFRN = Old Swap Value + PV(0,T)\n",
      "D_IFRN = 2x1.0479834873103022/1.0959749403865542x2.0321 - 1/1.0959749403865542x0.5\n"
     ]
    },
    {
     "data": {
      "text/plain": [
       "3.430039167887034"
      ]
     },
     "execution_count": 43,
     "metadata": {},
     "output_type": "execute_result"
    }
   ],
   "source": [
    "IFRN_Duration(C_rate = 0.08, C_Treasury = 0.04, P= P, T = 2, Delta_T= 0.5)"
   ]
  },
  {
   "cell_type": "code",
   "execution_count": 44,
   "metadata": {},
   "outputs": [
    {
     "name": "stdout",
     "output_type": "stream",
     "text": [
      "               IRS     \n",
      "\n",
      "             0.0306       \n",
      "s =  ---------------------------------------------------------------------------------------------------------\n",
      "      ([0.5*0.9941]+[0.5*0.9882]+[0.5*0.9788]+[0.5*0.9694]+)\n",
      "\n",
      " OSV\n",
      "(S_new - S_old) * sum( Delta_T * P) * 1 or -1 (Fixed_Payer = 1)\n",
      "\n",
      "OSV =  0.1266015318252314\n",
      "\n",
      "IFRN = Old Swap Value + PV(0,T)\n",
      "C_IFRN = 2x1.0479834873103022/1.0959749403865542x4.0171 - 1/1.0959749403865542x0.5^2\n"
     ]
    },
    {
     "data": {
      "text/plain": [
       "7.454328800181053"
      ]
     },
     "execution_count": 44,
     "metadata": {},
     "output_type": "execute_result"
    }
   ],
   "source": [
    "IFRN_Convexity(C_rate = 0.08, C_Treasury = 0.04, P= P, T = 2, Delta_T= 0.5)"
   ]
  },
  {
   "cell_type": "code",
   "execution_count": 45,
   "metadata": {
    "scrolled": false
   },
   "outputs": [
    {
     "data": {
      "text/plain": [
       "(1.0138456457772242, 1.9678203413944138, 3.8877910759347847)"
      ]
     },
     "execution_count": 45,
     "metadata": {},
     "output_type": "execute_result"
    }
   ],
   "source": [
    "Pricing_Treasury(0.04, 2, P, Delta_T_DF = 0.25, Delta_T_Coupon = 0.5 ,\n",
    "                 Duration_ = True, Convexity= True)"
   ]
  },
  {
   "cell_type": "code",
   "execution_count": 46,
   "metadata": {},
   "outputs": [],
   "source": [
    "def PV_Strapping_with_CBond(B_lst, C_lst,Delta_T_Bond ) :\n",
    "    Delta_T_Bond = 0.5\n",
    "    PV = np.array([B_lst[0]/(1+Delta_T_Bond * C_lst[0])])\n",
    "    for i in range(1,len(B_lst)) :\n",
    "        new_PV = (B_lst[i] - C_lst[i] * Delta_T_Bond * PV.sum())/(1 + Delta_T_Bond * C_lst[i])\n",
    "        PV = np.concatenate([PV, [new_PV] ])\n",
    "    return PV"
   ]
  },
  {
   "cell_type": "code",
   "execution_count": 47,
   "metadata": {},
   "outputs": [],
   "source": [
    "B_lst = [Pricing_Treasury(0.02, 0.5, P, 0.25, 0.5 , True, True)[0],\n",
    " Pricing_Treasury(0.02, 1, P, 0.25, 0.5 , True, True)[0],\n",
    " Pricing_Treasury(0.02, 1.5, P, 0.25, 0.5 , True, True)[0],\n",
    " Pricing_Treasury(0.02, 2, P, 0.25, 0.5 , True, True)[0],\n",
    " Pricing_Treasury(0.02, 2.5, P, 0.25, 0.5 , True, True)[0],\n",
    " Pricing_Treasury(0.02, 3, P, 0.25, 0.5 , True, True)[0]       ]\n",
    "C_lst = [0.02,0.02,0.02,0.02,0.02,0.02]"
   ]
  },
  {
   "cell_type": "code",
   "execution_count": 48,
   "metadata": {},
   "outputs": [
    {
     "data": {
      "text/plain": [
       "array([0.98824668, 0.96937341, 0.95339648, 0.93688756, 0.92592103,\n",
       "       0.91284843])"
      ]
     },
     "execution_count": 48,
     "metadata": {},
     "output_type": "execute_result"
    }
   ],
   "source": [
    "PV_Strapping_with_CBond(B_lst, C_lst, 0.5)"
   ]
  },
  {
   "cell_type": "code",
   "execution_count": 49,
   "metadata": {},
   "outputs": [
    {
     "data": {
      "text/plain": [
       "array([98.03921569, 95.92671545, 93.67196626, 90.91473678])"
      ]
     },
     "execution_count": 49,
     "metadata": {},
     "output_type": "execute_result"
    }
   ],
   "source": [
    "PV_Strapping_with_CBond([100,100,100,100], [0.04,0.042,0.044,0.048], 0.5)"
   ]
  },
  {
   "cell_type": "code",
   "execution_count": 50,
   "metadata": {},
   "outputs": [],
   "source": [
    "def Annuity(C_annual, y, Delta_T, T, Duration_ = False , Convexity = False) : \n",
    "    w = np.arange(Delta_T, T+Delta_T, Delta_T)\n",
    "    DF = 1/(1+y*Delta_T )**(w/Delta_T)\n",
    "    if Duration_ == False :\n",
    "        return (Delta_T*C_annual * DF).sum()\n",
    "    else :\n",
    "        Price = ( Delta_T*C_annual * DF).sum() \n",
    "        D = ((C_annual * Delta_T * DF * w)/Price).sum()\n",
    "        if Convexity == False :\n",
    "            return Price, D\n",
    "        else :\n",
    "            C = ((C_annual * Delta_T * DF * w**2)/Price).sum()\n",
    "            return Price, D, C"
   ]
  },
  {
   "cell_type": "code",
   "execution_count": null,
   "metadata": {},
   "outputs": [],
   "source": []
  }
 ],
 "metadata": {
  "kernelspec": {
   "display_name": "Python 3",
   "language": "python",
   "name": "python3"
  },
  "language_info": {
   "codemirror_mode": {
    "name": "ipython",
    "version": 3
   },
   "file_extension": ".py",
   "mimetype": "text/x-python",
   "name": "python",
   "nbconvert_exporter": "python",
   "pygments_lexer": "ipython3",
   "version": "3.7.6"
  }
 },
 "nbformat": 4,
 "nbformat_minor": 4
}
