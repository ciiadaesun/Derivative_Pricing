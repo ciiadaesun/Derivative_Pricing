{
 "cells": [
  {
   "cell_type": "code",
   "execution_count": 1,
   "metadata": {},
   "outputs": [],
   "source": [
    "import pandas as pd\n",
    "import numpy as np\n",
    "import matplotlib.pyplot as plt\n",
    "from scipy.optimize import minimize\n",
    "from scipy.optimize import root"
   ]
  },
  {
   "cell_type": "code",
   "execution_count": 2,
   "metadata": {},
   "outputs": [
    {
     "name": "stdout",
     "output_type": "stream",
     "text": [
      "C:\\Users\\LIMDAESUN\\Desktop\\카이스트관련\\신용리스크\\CDS_Calibrate\n"
     ]
    }
   ],
   "source": [
    "cd C:\\Users\\LIMDAESUN\\Desktop\\카이스트관련\\신용리스크\\CDS_Calibrate"
   ]
  },
  {
   "cell_type": "code",
   "execution_count": 3,
   "metadata": {},
   "outputs": [],
   "source": [
    "CDS_Spread = pd.read_excel('CDS_Spread.xlsx', index_col=0)\n",
    "Discount = pd.read_excel('Discount.xlsx', index_col=0)\n",
    "DF = pd.concat([pd.DataFrame([np.nan, 1, np.nan], index = Discount.columns).T, Discount], axis = 0)[['Discount']]"
   ]
  },
  {
   "cell_type": "code",
   "execution_count": 4,
   "metadata": {},
   "outputs": [],
   "source": [
    "def Calculate_CDS_Spread( hazard_rate_array, Discount, dt = 0.5, R = 0.4, Data_result = False) :\n",
    "    x = hazard_rate_array\n",
    "    DF = pd.concat([pd.DataFrame([np.nan, 1, np.nan], index = Discount.columns).T, Discount], axis = 0)[['Discount']]\n",
    "    surv = pd.DataFrame([1], columns = ['Q'])\n",
    "    spread_lst = []\n",
    "    for ii, i in enumerate(np.arange(dt, DF.index[-1]+dt, dt)) :\n",
    "        T = i\n",
    "        n = T-dt\n",
    "        Q_before = surv.Q.loc[n]\n",
    "        lamb_temp = x[ii]\n",
    "        timeline = np.linspace(0, dt, int(12 * dt)+1).round(2)[1:]\n",
    "        Q = np.exp(-lamb_temp * timeline) * Q_before\n",
    "        surv = pd.concat([surv,pd.DataFrame(Q, index = n+ timeline, columns = ['Q'])], axis = 0)\n",
    "        Data = pd.concat([DF, surv], axis = 1).interpolate(method = 'linear').loc[:T]\n",
    "        blue = ((np.array(Data.Discount)[:-1] + np.array(Data.Discount)[1:]) *        \n",
    "                (np.array(Data.Q)[:-1] - np.array(Data.Q)[1:])).sum()\n",
    "        Z_ = DF.Discount.loc[0:T]\n",
    "        Q_ = surv.Q.loc[Z_.index]\n",
    "        RPV01 = 0.5 * dt * (np.array(Z_.loc[0:T].iloc[1:]) * np.array(Q_.loc[0:T])[:-1] + np.array(Q_.loc[0:T])[1:]).sum()\n",
    "        spread = 0.5 * (1-R) * blue / (RPV01)\n",
    "        spread_lst.append(spread)\n",
    "    if Data_result == False :\n",
    "        return np.array(spread_lst)\n",
    "    else : \n",
    "        return np.array(spread_lst), Data"
   ]
  },
  {
   "cell_type": "code",
   "execution_count": 5,
   "metadata": {},
   "outputs": [
    {
     "data": {
      "text/plain": [
       "array([0.01200028, 0.01226841, 0.01253773, 0.01280505, 0.01307057,\n",
       "       0.01333361, 0.01359417, 0.0138515 , 0.01410568, 0.01435673,\n",
       "       0.01460457, 0.01484871, 0.01508915, 0.01532587, 0.01555881,\n",
       "       0.01578768, 0.01601247, 0.01623315, 0.01644969, 0.01666207])"
      ]
     },
     "execution_count": 5,
     "metadata": {},
     "output_type": "execute_result"
    }
   ],
   "source": [
    "hr = np.arange(0.02, 0.04,0.001)\n",
    "Calculate_CDS_Spread( hr, Discount, dt = 0.5, R = 0.4)"
   ]
  },
  {
   "cell_type": "code",
   "execution_count": 6,
   "metadata": {},
   "outputs": [],
   "source": [
    "def CDS_Spread_Interpolate(CDS_Sprad,Discount, dt = 0.5) :    \n",
    "    CDS_Spread_IP = pd.concat([CDS_Spread, pd.DataFrame([], index = np.arange(dt,CDS_Spread.index[-1]+dt,dt))], axis = 1).interpolate(method = 'linear')\n",
    "    return CDS_Spread_IP"
   ]
  },
  {
   "cell_type": "code",
   "execution_count": 7,
   "metadata": {},
   "outputs": [],
   "source": [
    "CDS_Spread_IP = np.array(CDS_Spread_Interpolate(CDS_Spread,Discount).Spread)/10000"
   ]
  },
  {
   "cell_type": "code",
   "execution_count": 8,
   "metadata": {},
   "outputs": [],
   "source": [
    "def Calibrated_Hazard_Rate(CDS_Spread,Discount,dt,R ) :\n",
    "    CDS_Spread_IP = np.array(CDS_Spread_Interpolate(CDS_Spread,Discount).Spread)/10000\n",
    "    def fun(x,Discount, dt, R,P) :\n",
    "        return  Calculate_CDS_Spread(x,Discount, dt , R) - P\n",
    "    x0 =np.repeat([0.02],len(CDS_Spread_IP))\n",
    "    res = root(fun, x0, args = (Discount, dt, R, CDS_Spread_IP))\n",
    "    return res.x.round(4)"
   ]
  },
  {
   "cell_type": "code",
   "execution_count": 9,
   "metadata": {},
   "outputs": [],
   "source": [
    "Hazard_Rate = Calibrated_Hazard_Rate(CDS_Spread,Discount,dt= 0.5,R = 0.4) "
   ]
  },
  {
   "cell_type": "code",
   "execution_count": 26,
   "metadata": {},
   "outputs": [
    {
     "data": {
      "text/plain": [
       "array([0.01200028, 0.01200157, 0.01249544, 0.01299038, 0.01349453,\n",
       "       0.01400006, 0.01450379, 0.01500324, 0.01550352, 0.01600209,\n",
       "       0.0157532 , 0.01550217, 0.01525394, 0.01500465, 0.01517167,\n",
       "       0.01533756, 0.0155048 , 0.01566992, 0.01583766, 0.0160047 ])"
      ]
     },
     "execution_count": 26,
     "metadata": {},
     "output_type": "execute_result"
    }
   ],
   "source": [
    "CDS_S, Data = Calculate_CDS_Spread(Hazard_Rate, Discount, dt = 0.5, R = 0.4, Data_result= True)\n",
    "CDS_S"
   ]
  },
  {
   "cell_type": "code",
   "execution_count": 11,
   "metadata": {},
   "outputs": [
    {
     "data": {
      "text/plain": [
       "array([0.012     , 0.012     , 0.0125    , 0.013     , 0.0135    ,\n",
       "       0.014     , 0.0145    , 0.015     , 0.0155    , 0.016     ,\n",
       "       0.01575   , 0.0155    , 0.01525   , 0.015     , 0.01516667,\n",
       "       0.01533333, 0.0155    , 0.01566667, 0.01583333, 0.016     ])"
      ]
     },
     "execution_count": 11,
     "metadata": {},
     "output_type": "execute_result"
    }
   ],
   "source": [
    "CDS_Spread_IP"
   ]
  },
  {
   "cell_type": "code",
   "execution_count": 31,
   "metadata": {},
   "outputs": [
    {
     "data": {
      "text/html": [
       "<div>\n",
       "<style scoped>\n",
       "    .dataframe tbody tr th:only-of-type {\n",
       "        vertical-align: middle;\n",
       "    }\n",
       "\n",
       "    .dataframe tbody tr th {\n",
       "        vertical-align: top;\n",
       "    }\n",
       "\n",
       "    .dataframe thead th {\n",
       "        text-align: right;\n",
       "    }\n",
       "</style>\n",
       "<table border=\"1\" class=\"dataframe\">\n",
       "  <thead>\n",
       "    <tr style=\"text-align: right;\">\n",
       "      <th></th>\n",
       "      <th>Discount</th>\n",
       "      <th>Q</th>\n",
       "    </tr>\n",
       "  </thead>\n",
       "  <tbody>\n",
       "    <tr>\n",
       "      <th>0.0</th>\n",
       "      <td>1.000000</td>\n",
       "      <td>1.000000</td>\n",
       "    </tr>\n",
       "    <tr>\n",
       "      <th>1.0</th>\n",
       "      <td>0.983125</td>\n",
       "      <td>0.980150</td>\n",
       "    </tr>\n",
       "    <tr>\n",
       "      <th>2.0</th>\n",
       "      <td>0.968850</td>\n",
       "      <td>0.957289</td>\n",
       "    </tr>\n",
       "    <tr>\n",
       "      <th>3.0</th>\n",
       "      <td>0.955359</td>\n",
       "      <td>0.931462</td>\n",
       "    </tr>\n",
       "    <tr>\n",
       "      <th>4.0</th>\n",
       "      <td>0.941290</td>\n",
       "      <td>0.902894</td>\n",
       "    </tr>\n",
       "    <tr>\n",
       "      <th>5.0</th>\n",
       "      <td>0.927618</td>\n",
       "      <td>0.871752</td>\n",
       "    </tr>\n",
       "    <tr>\n",
       "      <th>6.0</th>\n",
       "      <td>0.912920</td>\n",
       "      <td>0.852740</td>\n",
       "    </tr>\n",
       "    <tr>\n",
       "      <th>7.0</th>\n",
       "      <td>0.898175</td>\n",
       "      <td>0.835563</td>\n",
       "    </tr>\n",
       "    <tr>\n",
       "      <th>8.0</th>\n",
       "      <td>0.882524</td>\n",
       "      <td>0.809410</td>\n",
       "    </tr>\n",
       "    <tr>\n",
       "      <th>9.0</th>\n",
       "      <td>0.866653</td>\n",
       "      <td>0.782744</td>\n",
       "    </tr>\n",
       "    <tr>\n",
       "      <th>10.0</th>\n",
       "      <td>0.850576</td>\n",
       "      <td>0.755557</td>\n",
       "    </tr>\n",
       "  </tbody>\n",
       "</table>\n",
       "</div>"
      ],
      "text/plain": [
       "      Discount         Q\n",
       "0.0   1.000000  1.000000\n",
       "1.0   0.983125  0.980150\n",
       "2.0   0.968850  0.957289\n",
       "3.0   0.955359  0.931462\n",
       "4.0   0.941290  0.902894\n",
       "5.0   0.927618  0.871752\n",
       "6.0   0.912920  0.852740\n",
       "7.0   0.898175  0.835563\n",
       "8.0   0.882524  0.809410\n",
       "9.0   0.866653  0.782744\n",
       "10.0  0.850576  0.755557"
      ]
     },
     "execution_count": 31,
     "metadata": {},
     "output_type": "execute_result"
    }
   ],
   "source": [
    "Data.iloc[::12]"
   ]
  },
  {
   "cell_type": "code",
   "execution_count": 12,
   "metadata": {},
   "outputs": [
    {
     "data": {
      "text/plain": [
       "array([0.02  , 0.0201, 0.0227, 0.0245, 0.0264, 0.0283, 0.0302, 0.0321,\n",
       "       0.0341, 0.0361, 0.0225, 0.0216, 0.0208, 0.0199, 0.0314, 0.0322,\n",
       "       0.0331, 0.0339, 0.0349, 0.0358])"
      ]
     },
     "execution_count": 12,
     "metadata": {},
     "output_type": "execute_result"
    }
   ],
   "source": [
    "Hazard_Rate"
   ]
  },
  {
   "cell_type": "code",
   "execution_count": 24,
   "metadata": {},
   "outputs": [
    {
     "data": {
      "image/png": "[encoded data removed]",
      "text/plain": [
       "<Figure size 432x288 with 1 Axes>"
      ]
     },
     "metadata": {
      "needs_background": "light"
     },
     "output_type": "display_data"
    }
   ],
   "source": [
    "PD = pd.DataFrame(Hazard_Rate, index = CDS_Spread_Interpolate(CDS_Spread,Discount).index, columns = ['Default_Rate'])\n",
    "plt.plot(PD, label = 'Hazard_Rate')\n",
    "plt.legend(loc = 'best')\n",
    "plt.xlabel('T')\n",
    "plt.show()"
   ]
  },
  {
   "cell_type": "code",
   "execution_count": null,
   "metadata": {},
   "outputs": [],
   "source": []
  }
 ],
 "metadata": {
  "kernelspec": {
   "display_name": "Python 3",
   "language": "python",
   "name": "python3"
  },
  "language_info": {
   "codemirror_mode": {
    "name": "ipython",
    "version": 3
   },
   "file_extension": ".py",
   "mimetype": "text/x-python",
   "name": "python",
   "nbconvert_exporter": "python",
   "pygments_lexer": "ipython3",
   "version": "3.7.6"
  }
 },
 "nbformat": 4,
 "nbformat_minor": 4
}
