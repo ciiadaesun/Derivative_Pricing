{
 "cells": [
  {
   "cell_type": "code",
   "execution_count": 1,
   "metadata": {},
   "outputs": [],
   "source": [
    "import pandas as pd\n",
    "import numpy as np\n",
    "import matplotlib.pyplot as plt\n",
    "from scipy.optimize import minimize\n",
    "from scipy.optimize import root"
   ]
  },
  {
   "cell_type": "code",
   "execution_count": 2,
   "metadata": {
    "scrolled": true
   },
   "outputs": [
    {
     "name": "stdout",
     "output_type": "stream",
     "text": [
      "C:\\Users\\LIMDAESUN\\Desktop\\카이스트관련\\신용리스크\\CDS_Calibrate\n"
     ]
    }
   ],
   "source": [
    "cd C:\\Users\\LIMDAESUN\\Desktop\\카이스트관련\\신용리스크\\CDS_Calibrate"
   ]
  },
  {
   "cell_type": "markdown",
   "metadata": {},
   "source": [
    " ## Pricing CDS\n",
    " \\begin{align}\n",
    "S(0,T) = \\frac{1-R}{2} \\frac{ \\sum_{k=1}^{K} [ Z{(0,t_{k-1})} + Z{(0,t_k)}] \\bullet \n",
    "[Q{(0,t_{k-1} )} - Q{(0, t_k )}]}{RPV01(0,T)} \\\\\n",
    "\\\\\n",
    "\\end{align}\n",
    " \\begin{align}\n",
    "RPV01(0,T) = \\frac{1}{2} \\sum_{n=1}^{N} \\Delta(t_{n-1} , t_n) Z(0,t_n) [ Q(0,t_{n-1} + Q(0,t_n)] \n",
    "\\\\\n",
    "\\end{align}\n",
    "#### 　　　　　　　　　　　　　　　　　　　　　　●  k는 1개월 단위(monthly=1/12), \n",
    "#### 　　　　　　　　　　　　　　　　　　　　　　● n은 이자기간단위(payment compound) \n",
    "\n",
    "## Mark to market value for CDS (CDS long position)\n",
    "\\begin{align}\n",
    "\\ V_{(t)} = \\frac{1-R}{2} \\sum_{k=1}^{K} [ Z_{(t,t_{k-1})} + Z_{(t,t_k)}] \\bullet \n",
    "[Q_{(t,t_{k-1} )} - Q_{(t, t_k )}] - S_{previous}\\bullet RPV01_{(t,T)}\\\n",
    "\\\\\n",
    "\\ RPV01_{(t,T)} = \\frac{1}{2} \\sum_{n=1}^{N} \\Delta_{(t_{n-1} , t_n)} Z_{(t,t_n)} [ Q_{(0,t_{n-1}} + Q_{(t,t_n)}]\\\n",
    "\\end{align}"
   ]
  },
  {
   "cell_type": "code",
   "execution_count": 3,
   "metadata": {},
   "outputs": [],
   "source": [
    "CDS_Spread = pd.read_excel('CDS_Spread.xlsx', index_col=0)\n",
    "Discount = pd.read_excel('Discount.xlsx', index_col=0)"
   ]
  },
  {
   "cell_type": "code",
   "execution_count": 25,
   "metadata": {},
   "outputs": [],
   "source": [
    "#############Function 1 #####################\n",
    "def Calculate_CDS_Spread( hazard_rate_array, Discount, dt = 0.5, R = 0.4, Data_result = False) :\n",
    "    x = np.array(hazard_rate_array)\n",
    "    DF = pd.concat([pd.DataFrame([ 1], columns = ['Discount']), Discount[['Discount']]], axis = 0)\n",
    "    surv = pd.DataFrame([1], columns = ['Q'])\n",
    "    spread_lst = []\n",
    "    for ii, i in enumerate(np.arange(dt, DF.index[-1]+dt, dt)) :\n",
    "        T = i\n",
    "        n = T-dt\n",
    "        Q_before = surv.Q.loc[n]\n",
    "        lamb_temp = x[ii]\n",
    "        timeline = np.linspace(0, dt, int(12 * dt)+1).round(2)[1:]\n",
    "        Q = np.exp(-lamb_temp * timeline) * Q_before\n",
    "        surv = pd.concat([surv,pd.DataFrame(Q, index = n+ timeline, columns = ['Q'])], axis = 0)\n",
    "        Data = pd.concat([DF, surv], axis = 1).interpolate(method = 'linear').loc[:T]\n",
    "        blue = ((np.array(Data.Discount)[:-1] + np.array(Data.Discount)[1:]) *        \n",
    "                (np.array(Data.Q)[:-1] - np.array(Data.Q)[1:])).sum()\n",
    "        Z_ = DF.Discount.loc[0:T]\n",
    "        Q_ = surv.Q.loc[Z_.index]\n",
    "        RPV01 = 0.5 * dt * (np.array(Z_.loc[0:T].iloc[1:]) * np.array(Q_.loc[0:T])[:-1] + np.array(Q_.loc[0:T])[1:]).sum()\n",
    "        spread = 0.5 * (1-R) * blue / (RPV01)\n",
    "        spread_lst.append(spread)\n",
    "    if Data_result == False :\n",
    "        return np.array(spread_lst)\n",
    "    else : \n",
    "        return pd.DataFrame(spread_lst,index = Data.index[int(12 * dt)::int(12 * dt)], columns=['CDS_Spread']).T, Data\n",
    "    \n",
    "#############Function 2 #####################\n",
    "def M_to_M_CDS_long(hazard_rate_array, Discount,S_before_array, dt= 0.5, R = 0.4, Data_result = False) :\n",
    "    x = np.array(hazard_rate_array)\n",
    "    S_before_array = np.array(S_before_array).reshape(-1)\n",
    "    DF = pd.concat([pd.DataFrame([ 1], columns = ['Discount']), Discount[['Discount']]], axis = 0)\n",
    "    surv = pd.DataFrame([1], columns = ['Q'])\n",
    "    Value_long_lst = []\n",
    "    for ii, i in enumerate(np.arange(dt, DF.index[-1]+dt, dt)) :\n",
    "        T = i\n",
    "        n = T-dt\n",
    "        Q_before = surv.Q.loc[n]\n",
    "        lamb_temp = x[ii]\n",
    "        timeline = np.linspace(0, dt, int(12 * dt)+1).round(2)[1:]\n",
    "        Q = np.exp(-lamb_temp * timeline) * Q_before\n",
    "        surv = pd.concat([surv,pd.DataFrame(Q, index = n+ timeline, columns = ['Q'])], axis = 0)\n",
    "        Data = pd.concat([DF, surv], axis = 1).interpolate(method = 'linear').loc[:T]\n",
    "        blue = ((np.array(Data.Discount)[:-1] + np.array(Data.Discount)[1:]) *        \n",
    "                (np.array(Data.Q)[:-1] - np.array(Data.Q)[1:])).sum()\n",
    "        Z_ = DF.Discount.loc[0:T]\n",
    "        Q_ = surv.Q.loc[Z_.index]\n",
    "        RPV01 = 0.5 * dt * (np.array(Z_.loc[0:T].iloc[1:]) * np.array(Q_.loc[0:T])[:-1] + np.array(Q_.loc[0:T])[1:]).sum()\n",
    "        V = 0.5 * (1-R) * blue - S_before_array[ii] * RPV01\n",
    "        Value_long_lst.append(V)\n",
    "    if Data_result == False :\n",
    "        return np.array(Value_long_lst)\n",
    "    else : \n",
    "        return pd.DataFrame(Value_long_lst,index = Data.index[int(12 * dt)::int(12 * dt)], columns=['CDS_long_Value']), Data\n",
    "\n",
    "#############################################    \n",
    "def CDS_Spread_Interpolate(CDS_Spread,Discount, dt = 0.5) :    \n",
    "    CDS_Spread_IP = pd.concat([CDS_Spread, pd.DataFrame([], index = np.arange(dt,CDS_Spread.index[-1]+dt,dt))], axis = 1).interpolate(method = 'linear')\n",
    "    return CDS_Spread_IP\n",
    "\n",
    "#############Function 3 #####################\n",
    "def Calibrated_Hazard_Rate(CDS_Spread,Discount,dt,R ) :\n",
    "    CDS_Spread_IP = np.array(CDS_Spread_Interpolate(CDS_Spread,Discount).Spread)/10000\n",
    "    def fun(x,Discount, dt, R,P) :\n",
    "        return  Calculate_CDS_Spread(x,Discount, dt , R) - P\n",
    "    x0 =np.repeat([0.02],len(CDS_Spread_IP))\n",
    "    res = root(fun, x0, args = (Discount, dt, R, CDS_Spread_IP))\n",
    "    return res.x.round(4)"
   ]
  },
  {
   "cell_type": "markdown",
   "metadata": {},
   "source": [
    " ### Function1. : Calculating CDS Spread \n",
    " #### ● Input = (hazard_rate_array, Discount, dt, R)\n",
    " ##### 　- Hazard Rate Term Structure　 (ex : [0.02, 0.02, 0.02, ....])\n",
    " ##### 　- Discount Rate Structure \n",
    " ##### 　- dt is interest payment period\n",
    " ##### 　- R is Recovery\n",
    "  ### Function2. Current CDS M to M Value \n",
    " #### ● Input = (hazard_rate_array, Discount,S_before_array dt, R)\n",
    " ##### 　- Hazard Rate Term Structure (ex : [0.02, 0.02, 0.02, ....])\n",
    " ##### 　- Discount Rate Structure\n",
    " ##### 　- Previous CDS Spread Term Structure (ex : [0.012, 0.013, 0.0125, ....])\n",
    " ##### 　- dt is interest payment period\n",
    " ##### 　- R is Recovery\n",
    "  ### Function3. : Calibrating Hazard Rate with Current CDS Spread \n",
    " #### ● Input = (CDS_Spread, Discount, dt, R)\n",
    " ##### 　- CDS_Spread is CDS Spread Term Structure　 (ex : [0.015, 0.0164, 0.02, ....])\n",
    " ##### 　- Discount Rate Term Structure \n",
    " ##### 　- dt is interest payment period\n",
    " ##### 　- R is Recovery"
   ]
  },
  {
   "cell_type": "markdown",
   "metadata": {},
   "source": [
    " ### CDS pricing with Hazard Ratio term structure"
   ]
  },
  {
   "cell_type": "code",
   "execution_count": 5,
   "metadata": {},
   "outputs": [
    {
     "data": {
      "text/plain": [
       "array([0.01200028, 0.01226841, 0.01253773, 0.01280505, 0.01307057,\n",
       "       0.01333361, 0.01359417, 0.0138515 , 0.01410568, 0.01435673,\n",
       "       0.01460457, 0.01484871, 0.01508915, 0.01532587, 0.01555881,\n",
       "       0.01578768, 0.01601247, 0.01623315, 0.01644969, 0.01666207])"
      ]
     },
     "execution_count": 5,
     "metadata": {},
     "output_type": "execute_result"
    }
   ],
   "source": [
    "hr = np.arange(0.02, 0.04,0.001)\n",
    "CDS_Calculated = Calculate_CDS_Spread( hr, Discount, dt = 0.5, R = 0.4)\n",
    "CDS_Calculated"
   ]
  },
  {
   "cell_type": "markdown",
   "metadata": {},
   "source": [
    " ### Calibrate implied hazard rate with Current CDS price"
   ]
  },
  {
   "cell_type": "code",
   "execution_count": 6,
   "metadata": {
    "scrolled": true
   },
   "outputs": [
    {
     "data": {
      "text/plain": [
       "array([0.02  , 0.0201, 0.0227, 0.0245, 0.0264, 0.0283, 0.0302, 0.0321,\n",
       "       0.0341, 0.0361, 0.0225, 0.0216, 0.0208, 0.0199, 0.0314, 0.0322,\n",
       "       0.0331, 0.0339, 0.0349, 0.0358])"
      ]
     },
     "execution_count": 6,
     "metadata": {},
     "output_type": "execute_result"
    }
   ],
   "source": [
    "Hazard_Rate = Calibrated_Hazard_Rate(CDS_Spread,Discount,dt= 0.5,R = 0.4) \n",
    "Hazard_Rate"
   ]
  },
  {
   "cell_type": "code",
   "execution_count": 7,
   "metadata": {},
   "outputs": [
    {
     "data": {
      "text/html": [
       "<div>\n",
       "<style scoped>\n",
       "    .dataframe tbody tr th:only-of-type {\n",
       "        vertical-align: middle;\n",
       "    }\n",
       "\n",
       "    .dataframe tbody tr th {\n",
       "        vertical-align: top;\n",
       "    }\n",
       "\n",
       "    .dataframe thead th {\n",
       "        text-align: right;\n",
       "    }\n",
       "</style>\n",
       "<table border=\"1\" class=\"dataframe\">\n",
       "  <thead>\n",
       "    <tr style=\"text-align: right;\">\n",
       "      <th></th>\n",
       "      <th>0.5</th>\n",
       "      <th>1.0</th>\n",
       "      <th>1.5</th>\n",
       "      <th>2.0</th>\n",
       "      <th>2.5</th>\n",
       "      <th>3.0</th>\n",
       "      <th>3.5</th>\n",
       "      <th>4.0</th>\n",
       "      <th>4.5</th>\n",
       "      <th>5.0</th>\n",
       "      <th>5.5</th>\n",
       "      <th>6.0</th>\n",
       "      <th>6.5</th>\n",
       "      <th>7.0</th>\n",
       "      <th>7.5</th>\n",
       "      <th>8.0</th>\n",
       "      <th>8.5</th>\n",
       "      <th>9.0</th>\n",
       "      <th>9.5</th>\n",
       "      <th>10.0</th>\n",
       "    </tr>\n",
       "  </thead>\n",
       "  <tbody>\n",
       "    <tr>\n",
       "      <th>CDS_Spread</th>\n",
       "      <td>0.012</td>\n",
       "      <td>0.012002</td>\n",
       "      <td>0.012495</td>\n",
       "      <td>0.01299</td>\n",
       "      <td>0.013495</td>\n",
       "      <td>0.014</td>\n",
       "      <td>0.014504</td>\n",
       "      <td>0.015003</td>\n",
       "      <td>0.015504</td>\n",
       "      <td>0.016002</td>\n",
       "      <td>0.015753</td>\n",
       "      <td>0.015502</td>\n",
       "      <td>0.015254</td>\n",
       "      <td>0.015005</td>\n",
       "      <td>0.015172</td>\n",
       "      <td>0.015338</td>\n",
       "      <td>0.015505</td>\n",
       "      <td>0.01567</td>\n",
       "      <td>0.015838</td>\n",
       "      <td>0.016005</td>\n",
       "    </tr>\n",
       "  </tbody>\n",
       "</table>\n",
       "</div>"
      ],
      "text/plain": [
       "             0.5       1.0       1.5      2.0       2.5    3.0       3.5   \\\n",
       "CDS_Spread  0.012  0.012002  0.012495  0.01299  0.013495  0.014  0.014504   \n",
       "\n",
       "                4.0       4.5       5.0       5.5       6.0       6.5   \\\n",
       "CDS_Spread  0.015003  0.015504  0.016002  0.015753  0.015502  0.015254   \n",
       "\n",
       "                7.0       7.5       8.0       8.5      9.0       9.5   \\\n",
       "CDS_Spread  0.015005  0.015172  0.015338  0.015505  0.01567  0.015838   \n",
       "\n",
       "                10.0  \n",
       "CDS_Spread  0.016005  "
      ]
     },
     "execution_count": 7,
     "metadata": {},
     "output_type": "execute_result"
    }
   ],
   "source": [
    "CDS_S, Data = Calculate_CDS_Spread(Hazard_Rate, Discount, dt = 0.5, R = 0.4, Data_result= True)\n",
    "CDS_S"
   ]
  },
  {
   "cell_type": "code",
   "execution_count": 8,
   "metadata": {},
   "outputs": [
    {
     "data": {
      "text/plain": [
       "array([120.        , 120.        , 125.        , 130.        ,\n",
       "       135.        , 140.        , 145.        , 150.        ,\n",
       "       155.        , 160.        , 157.5       , 155.        ,\n",
       "       152.5       , 150.        , 151.66666667, 153.33333333,\n",
       "       155.        , 156.66666667, 158.33333333, 160.        ])"
      ]
     },
     "execution_count": 8,
     "metadata": {},
     "output_type": "execute_result"
    }
   ],
   "source": [
    "np.array(CDS_Spread_Interpolate(CDS_Spread,Discount, dt = 0.5).Spread)"
   ]
  },
  {
   "cell_type": "code",
   "execution_count": 9,
   "metadata": {
    "scrolled": true
   },
   "outputs": [
    {
     "data": {
      "text/html": [
       "<div>\n",
       "<style scoped>\n",
       "    .dataframe tbody tr th:only-of-type {\n",
       "        vertical-align: middle;\n",
       "    }\n",
       "\n",
       "    .dataframe tbody tr th {\n",
       "        vertical-align: top;\n",
       "    }\n",
       "\n",
       "    .dataframe thead th {\n",
       "        text-align: right;\n",
       "    }\n",
       "</style>\n",
       "<table border=\"1\" class=\"dataframe\">\n",
       "  <thead>\n",
       "    <tr style=\"text-align: right;\">\n",
       "      <th></th>\n",
       "      <th>Discount</th>\n",
       "      <th>Q</th>\n",
       "    </tr>\n",
       "  </thead>\n",
       "  <tbody>\n",
       "    <tr>\n",
       "      <th>0.0</th>\n",
       "      <td>1.000000</td>\n",
       "      <td>1.000000</td>\n",
       "    </tr>\n",
       "    <tr>\n",
       "      <th>1.0</th>\n",
       "      <td>0.983125</td>\n",
       "      <td>0.980150</td>\n",
       "    </tr>\n",
       "    <tr>\n",
       "      <th>2.0</th>\n",
       "      <td>0.968850</td>\n",
       "      <td>0.957289</td>\n",
       "    </tr>\n",
       "    <tr>\n",
       "      <th>3.0</th>\n",
       "      <td>0.955359</td>\n",
       "      <td>0.931462</td>\n",
       "    </tr>\n",
       "    <tr>\n",
       "      <th>4.0</th>\n",
       "      <td>0.941290</td>\n",
       "      <td>0.902894</td>\n",
       "    </tr>\n",
       "    <tr>\n",
       "      <th>5.0</th>\n",
       "      <td>0.927618</td>\n",
       "      <td>0.871752</td>\n",
       "    </tr>\n",
       "    <tr>\n",
       "      <th>6.0</th>\n",
       "      <td>0.912920</td>\n",
       "      <td>0.852740</td>\n",
       "    </tr>\n",
       "    <tr>\n",
       "      <th>7.0</th>\n",
       "      <td>0.898175</td>\n",
       "      <td>0.835563</td>\n",
       "    </tr>\n",
       "    <tr>\n",
       "      <th>8.0</th>\n",
       "      <td>0.882524</td>\n",
       "      <td>0.809410</td>\n",
       "    </tr>\n",
       "    <tr>\n",
       "      <th>9.0</th>\n",
       "      <td>0.866653</td>\n",
       "      <td>0.782744</td>\n",
       "    </tr>\n",
       "    <tr>\n",
       "      <th>10.0</th>\n",
       "      <td>0.850576</td>\n",
       "      <td>0.755557</td>\n",
       "    </tr>\n",
       "  </tbody>\n",
       "</table>\n",
       "</div>"
      ],
      "text/plain": [
       "      Discount         Q\n",
       "0.0   1.000000  1.000000\n",
       "1.0   0.983125  0.980150\n",
       "2.0   0.968850  0.957289\n",
       "3.0   0.955359  0.931462\n",
       "4.0   0.941290  0.902894\n",
       "5.0   0.927618  0.871752\n",
       "6.0   0.912920  0.852740\n",
       "7.0   0.898175  0.835563\n",
       "8.0   0.882524  0.809410\n",
       "9.0   0.866653  0.782744\n",
       "10.0  0.850576  0.755557"
      ]
     },
     "execution_count": 9,
     "metadata": {},
     "output_type": "execute_result"
    }
   ],
   "source": [
    "Data.iloc[::12]"
   ]
  },
  {
   "cell_type": "markdown",
   "metadata": {},
   "source": [
    " ### Calibrated Hazard Rate Term Structure"
   ]
  },
  {
   "cell_type": "code",
   "execution_count": 10,
   "metadata": {
    "scrolled": false
   },
   "outputs": [
    {
     "data": {
      "text/plain": [
       "array([0.02  , 0.0201, 0.0227, 0.0245, 0.0264, 0.0283, 0.0302, 0.0321,\n",
       "       0.0341, 0.0361, 0.0225, 0.0216, 0.0208, 0.0199, 0.0314, 0.0322,\n",
       "       0.0331, 0.0339, 0.0349, 0.0358])"
      ]
     },
     "execution_count": 10,
     "metadata": {},
     "output_type": "execute_result"
    }
   ],
   "source": [
    "Hazard_Rate"
   ]
  },
  {
   "cell_type": "code",
   "execution_count": 14,
   "metadata": {
    "scrolled": true
   },
   "outputs": [
    {
     "data": {
      "image/png": "[encoded data removed]",
      "text/plain": [
       "<Figure size 432x288 with 1 Axes>"
      ]
     },
     "metadata": {
      "needs_background": "light"
     },
     "output_type": "display_data"
    }
   ],
   "source": [
    "PD = pd.DataFrame(Hazard_Rate, index = CDS_Spread_Interpolate(CDS_Spread,Discount).index, columns = ['Default_Rate'])\n",
    "plt.plot(PD, label = 'Hazard_Rate', marker = 'o', color = 'blue')\n",
    "plt.legend(loc = 'best')\n",
    "plt.xlabel('T')\n",
    "plt.title('Hazard_Rate_Term_Structure')\n",
    "plt.show()"
   ]
  },
  {
   "cell_type": "markdown",
   "metadata": {},
   "source": [
    " ### Mark to Markte value for CDS (if Hazard Rate paralel increase 1%p )"
   ]
  },
  {
   "cell_type": "code",
   "execution_count": 27,
   "metadata": {
    "scrolled": false
   },
   "outputs": [
    {
     "data": {
      "text/html": [
       "<div>\n",
       "<style scoped>\n",
       "    .dataframe tbody tr th:only-of-type {\n",
       "        vertical-align: middle;\n",
       "    }\n",
       "\n",
       "    .dataframe tbody tr th {\n",
       "        vertical-align: top;\n",
       "    }\n",
       "\n",
       "    .dataframe thead th {\n",
       "        text-align: right;\n",
       "    }\n",
       "</style>\n",
       "<table border=\"1\" class=\"dataframe\">\n",
       "  <thead>\n",
       "    <tr style=\"text-align: right;\">\n",
       "      <th></th>\n",
       "      <th>CDS_long_Value</th>\n",
       "    </tr>\n",
       "  </thead>\n",
       "  <tbody>\n",
       "    <tr>\n",
       "      <th>0.5</th>\n",
       "      <td>0.002964</td>\n",
       "    </tr>\n",
       "    <tr>\n",
       "      <th>1.0</th>\n",
       "      <td>0.005858</td>\n",
       "    </tr>\n",
       "    <tr>\n",
       "      <th>1.5</th>\n",
       "      <td>0.008683</td>\n",
       "    </tr>\n",
       "    <tr>\n",
       "      <th>2.0</th>\n",
       "      <td>0.011437</td>\n",
       "    </tr>\n",
       "    <tr>\n",
       "      <th>2.5</th>\n",
       "      <td>0.014118</td>\n",
       "    </tr>\n",
       "    <tr>\n",
       "      <th>3.0</th>\n",
       "      <td>0.016725</td>\n",
       "    </tr>\n",
       "    <tr>\n",
       "      <th>3.5</th>\n",
       "      <td>0.019255</td>\n",
       "    </tr>\n",
       "    <tr>\n",
       "      <th>4.0</th>\n",
       "      <td>0.021708</td>\n",
       "    </tr>\n",
       "    <tr>\n",
       "      <th>4.5</th>\n",
       "      <td>0.024081</td>\n",
       "    </tr>\n",
       "    <tr>\n",
       "      <th>5.0</th>\n",
       "      <td>0.026373</td>\n",
       "    </tr>\n",
       "    <tr>\n",
       "      <th>5.5</th>\n",
       "      <td>0.028684</td>\n",
       "    </tr>\n",
       "    <tr>\n",
       "      <th>6.0</th>\n",
       "      <td>0.030948</td>\n",
       "    </tr>\n",
       "    <tr>\n",
       "      <th>6.5</th>\n",
       "      <td>0.033166</td>\n",
       "    </tr>\n",
       "    <tr>\n",
       "      <th>7.0</th>\n",
       "      <td>0.035341</td>\n",
       "    </tr>\n",
       "    <tr>\n",
       "      <th>7.5</th>\n",
       "      <td>0.037372</td>\n",
       "    </tr>\n",
       "    <tr>\n",
       "      <th>8.0</th>\n",
       "      <td>0.039337</td>\n",
       "    </tr>\n",
       "    <tr>\n",
       "      <th>8.5</th>\n",
       "      <td>0.041237</td>\n",
       "    </tr>\n",
       "    <tr>\n",
       "      <th>9.0</th>\n",
       "      <td>0.043073</td>\n",
       "    </tr>\n",
       "    <tr>\n",
       "      <th>9.5</th>\n",
       "      <td>0.044844</td>\n",
       "    </tr>\n",
       "    <tr>\n",
       "      <th>10.0</th>\n",
       "      <td>0.046551</td>\n",
       "    </tr>\n",
       "  </tbody>\n",
       "</table>\n",
       "</div>"
      ],
      "text/plain": [
       "      CDS_long_Value\n",
       "0.5         0.002964\n",
       "1.0         0.005858\n",
       "1.5         0.008683\n",
       "2.0         0.011437\n",
       "2.5         0.014118\n",
       "3.0         0.016725\n",
       "3.5         0.019255\n",
       "4.0         0.021708\n",
       "4.5         0.024081\n",
       "5.0         0.026373\n",
       "5.5         0.028684\n",
       "6.0         0.030948\n",
       "6.5         0.033166\n",
       "7.0         0.035341\n",
       "7.5         0.037372\n",
       "8.0         0.039337\n",
       "8.5         0.041237\n",
       "9.0         0.043073\n",
       "9.5         0.044844\n",
       "10.0        0.046551"
      ]
     },
     "execution_count": 27,
     "metadata": {},
     "output_type": "execute_result"
    }
   ],
   "source": [
    "M_to_M_Value=M_to_M_CDS_long(Hazard_Rate +0.01, Discount,S_before_array = CDS_S, dt= 0.5, R = 0.4, Data_result = True)[0]\n",
    "M_to_M_Value"
   ]
  },
  {
   "cell_type": "code",
   "execution_count": null,
   "metadata": {},
   "outputs": [],
   "source": []
  }
 ],
 "metadata": {
  "kernelspec": {
   "display_name": "Python 3",
   "language": "python",
   "name": "python3"
  },
  "language_info": {
   "codemirror_mode": {
    "name": "ipython",
    "version": 3
   },
   "file_extension": ".py",
   "mimetype": "text/x-python",
   "name": "python",
   "nbconvert_exporter": "python",
   "pygments_lexer": "ipython3",
   "version": "3.7.6"
  }
 },
 "nbformat": 4,
 "nbformat_minor": 4
}
