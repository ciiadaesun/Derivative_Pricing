{
 "cells": [
  {
   "cell_type": "code",
   "execution_count": 24,
   "metadata": {
    "scrolled": true
   },
   "outputs": [
    {
     "name": "stdout",
     "output_type": "stream",
     "text": [
      "C:\\Users\\LIMDAESUN\\for_github\\Fixed_Income_and_Interest_Derivatives\n"
     ]
    }
   ],
   "source": [
    "cd C:\\Users\\LIMDAESUN\\for_github\\Fixed_Income_and_Interest_Derivatives"
   ]
  },
  {
   "cell_type": "markdown",
   "metadata": {},
   "source": [
    " # 목차\n",
    " ### 1. Discount Function\n",
    " ### 2. Swap Rate and Old Swap Value\n",
    " ### 3. Forward Swap Rate and Swaption\n",
    "### 4. Caplet , Floorlet Pricing\n",
    " ### 5. Merton Credit Model\n",
    "  ### 6. Risky Bond Pricing or Riskless Bond Pricing"
   ]
  },
  {
   "cell_type": "code",
   "execution_count": 2,
   "metadata": {},
   "outputs": [],
   "source": [
    "import numpy as np\n",
    "import pandas as pd\n",
    "import matplotlib.pyplot as plt\n",
    "import datetime\n",
    "from scipy.stats import norm\n",
    "from scipy.optimize import root"
   ]
  },
  {
   "cell_type": "code",
   "execution_count": 3,
   "metadata": {},
   "outputs": [],
   "source": [
    "Initial_Data = pd.read_excel('Discount_Mar_26.xlsx', parse_dates=['Maturity Date']).set_index('Maturity Date')\n",
    "Discount = Initial_Data.Discount"
   ]
  },
  {
   "cell_type": "code",
   "execution_count": 4,
   "metadata": {},
   "outputs": [],
   "source": [
    "pricing_date = pd.datetime(2020,3,26)"
   ]
  },
  {
   "cell_type": "markdown",
   "metadata": {},
   "source": [
    " ### 1. Discount Function"
   ]
  },
  {
   "cell_type": "code",
   "execution_count": 5,
   "metadata": {},
   "outputs": [],
   "source": [
    "def interpolated_DF(pricing_date, Discount, freq_month = 3) :\n",
    "    ################################################################################\n",
    "    ### 0 to 1 day interest rate은 가장 짧은 Curve Interest Rate과 같다고 가정    ##\n",
    "    ### Assuming that 1 day interest rate is equal to first interest of the curve ##\n",
    "    ################################################################################    \n",
    "    r0 = (1/Discount.iloc[0] -1) * 360/(Discount.index[0].to_pydatetime() - pricing_date).days\n",
    "    DF0 = 1/(1+r0 * 1/360)\n",
    "    Discount0= pd.Series([DF0], index = [pricing_date + datetime.timedelta(days = 1)], name = 'Discount')\n",
    "\n",
    "    ################################\n",
    "    ### Log Linear Interpolation ###\n",
    "    ################################\n",
    "    discount = np.exp(np.log(pd.concat([Discount0, Discount], axis = 0).resample('D').last()).interpolate(method = 'linear'))\n",
    "    end_date = pd.datetime(discount.index[-1].year,discount.index[-1].month, 1) \n",
    "    date_index = pd.Series(pd.date_range(pd.datetime(pricing_date.year,pricing_date.month, 1),                                                            \n",
    "                                         end_date, freq = 'MS')[freq_month::freq_month]) + datetime.timedelta(days = pricing_date.day-1)\n",
    "    return discount.loc[date_index]\n",
    "\n",
    "def Forward_Rate_Curve(pricing_date, Discount, freq_month = 3) :\n",
    "    DF =  interpolated_DF(pricing_date, Discount, freq_month)\n",
    "    ## r0 is F(0,t1)\n",
    "    r0 = ( 1/DF.iloc[0] - 1)  * 360/(DF.index[0].to_pydatetime() - pricing_date).days\n",
    "    dt = pd.Series(DF.index).diff().apply(lambda x : x.days).fillna((DF.index[0] - pricing_date).days)\n",
    "    F_1_to_M = (np.array(DF.iloc[:-1]) / np.array(DF.iloc[1:]) - 1) * 360/np.array(dt.iloc[1:])\n",
    "    return pd.Series(np.concatenate([[r0], F_1_to_M]), index = DF.index)\n",
    "\n",
    "def Continuous_Zero_Rate(pricing_date, Discount, freq_month = 3):\n",
    "    DF = interpolated_DF(pricing_date, Discount, freq_month)\n",
    "    my_lamb = lambda x : 365 if  x >= 365 else 360\n",
    "    Time = (pd.Series(DF.index) - pricing_date).apply(lambda x: x.days).apply(my_lamb)\n",
    "    T = (pd.Series(DF.index) - pricing_date).apply(lambda x: x.days)/Time\n",
    "    T.index = DF.index    \n",
    "    continuous_zero = -np.log(DF) * 1/T\n",
    "    return continuous_zero\n",
    "def F_Rate(pricing_date, Discount, t0, tenor ,freq_month = 3):\n",
    "    ################################\n",
    "    ### Calculate Forward Rate  ####\n",
    "    ### t0 = Forward Maturity   ####\n",
    "    ################################\n",
    "    DF =  interpolated_DF(pricing_date, Discount, freq_month)\n",
    "    T0 = int(t0*(12/freq_month))\n",
    "    T1 = T0 + int(tenor*(12/freq_month)) # Swap Maturity Date\n",
    "    dt = pd.Series(DF.index).diff().apply(lambda x : x.days).fillna((DF.index[0] - pricing_date).days)\n",
    "    P0 = np.concatenate([[1],np.array(DF)])[T0]\n",
    "    P1 = np.concatenate([[1],np.array(DF)])[T1]\n",
    "    DeltaT = (dt.iloc[T0:T1]).sum()/365\n",
    "    F = 1/DeltaT * (P0/P1-1)\n",
    "    return F"
   ]
  },
  {
   "cell_type": "markdown",
   "metadata": {},
   "source": [
    "### 2. Swap Rate and Old Swap Value\n",
    "#### Swap Rate\n",
    "\\begin{align}\n",
    " \\ S = \\frac{a}{b} \\\\ a = \\sum_{i=1}^{m}(P(0,t_{i-1}) e^{\\lambda \\Delta t_i} - P(0,t_{i})),\\ ( \\lambda = hazard \\ rate) \\\\ b = \\sum_{i=1}^{m} \\Delta t_i P(0,t_i) \\\n",
    " \\end{align}\n",
    "#### Old Swap Value\n",
    "\\begin{align}\n",
    " \\\\\\\\ V_{swap} = (s^\\star - s ) \\sum_{i=1}^{m} \\Delta t_i P(0,t_i) \\\\\n",
    " \\end{align}"
   ]
  },
  {
   "cell_type": "code",
   "execution_count": 6,
   "metadata": {},
   "outputs": [],
   "source": [
    "def Swap_Rate(pricing_date, Discount, t, freq_month_of_Discount = 3, hazard_rate = 0) :\n",
    "    lamb = hazard_rate\n",
    "    DF = interpolated_DF(pricing_date, Discount, freq_month_of_Discount)\n",
    "    T = int(t*(12/freq_month_of_Discount))\n",
    "    dt = pd.Series(DF.index).diff().apply(lambda x : x.days).fillna((DF.index[0] - pricing_date).days)\n",
    "    P = np.concatenate([[1],np.array(DF.iloc[:T])])\n",
    "    Deltat = np.array(dt.iloc[:T])/365\n",
    "    a = (P[:-1] * np.exp(lamb * Deltat) - P[1:]).sum()\n",
    "    b = ( np.array(dt.iloc[:T]/365) * np.array(DF)[:T]).sum()\n",
    "    s = a/b\n",
    "    return s\n",
    "\n",
    "def Old_Swap_Value(S_old, pricing_date, t, freq_month_of_Discount = 3, hazard_rate = 0) :\n",
    "    DF = interpolated_DF(pricing_date, Discount, freq_month_of_Discount)\n",
    "    S_new = Swap_Rate(pricing_date, Discount, t, freq_month_of_Discount, hazard_rate)     \n",
    "    T = int(t*(12/freq_month_of_Discount))\n",
    "    dt = pd.Series(DF.index).diff().apply(lambda x : x.days).fillna((DF.index[0] - pricing_date).days)\n",
    "    P = np.array(DF.iloc[:T])\n",
    "    Deltat = np.array(dt.iloc[:T])/365\n",
    "    value = (S_new - S_old) * (P * Deltat).sum()\n",
    "    return value"
   ]
  },
  {
   "cell_type": "markdown",
   "metadata": {},
   "source": [
    " #### Curve Calculation Example"
   ]
  },
  {
   "cell_type": "code",
   "execution_count": 23,
   "metadata": {
    "scrolled": true
   },
   "outputs": [
    {
     "data": {
      "image/png": "[encoded data removed]",
      "text/plain": [
       "<Figure size 432x288 with 1 Axes>"
      ]
     },
     "metadata": {
      "needs_background": "light"
     },
     "output_type": "display_data"
    }
   ],
   "source": [
    "CZR = Continuous_Zero_Rate(pricing_date, Discount).iloc[:40]\n",
    "FRC = Forward_Rate_Curve(pricing_date, Discount, freq_month = 3).iloc[:40]\n",
    "S_5 = Swap_Rate(pricing_date, Discount, t=5)\n",
    "S_5_hazard = Swap_Rate(pricing_date, Discount, t=5 ,hazard_rate = 0.0025)\n",
    "plt.figure()\n",
    "plt.plot(CZR, label = 'Zero_Rate')\n",
    "plt.plot(pd.Series([S_5]*len(CZR.index), index = CZR.index), label = 'Swap_Rate(T=5)')\n",
    "plt.plot(pd.Series([S_5_hazard]*len(CZR.index), index = CZR.index), label = 'Swap_Rate(T=5, hazard_rate = 25bp)')\n",
    "plt.plot(FRC, label = 'Forward_Rate')\n",
    "plt.legend(loc = 'best')\n",
    "plt.show()"
   ]
  },
  {
   "cell_type": "markdown",
   "metadata": {},
   "source": [
    " #### Old Swap Value"
   ]
  },
  {
   "cell_type": "code",
   "execution_count": 8,
   "metadata": {},
   "outputs": [
    {
     "data": {
      "text/plain": [
       "0.004560743846249403"
      ]
     },
     "execution_count": 8,
     "metadata": {},
     "output_type": "execute_result"
    }
   ],
   "source": [
    "Old_Swap_Value(0.005, pricing_date, t=5, freq_month_of_Discount = 3, hazard_rate = 0)"
   ]
  },
  {
   "cell_type": "markdown",
   "metadata": {},
   "source": [
    " "
   ]
  },
  {
   "cell_type": "markdown",
   "metadata": {},
   "source": [
    "### 3. Forward Swap Rate and Swaption\n",
    "#### Forward Swap Rate\n",
    "\\begin{align}\n",
    " \\ FSR_0(T_0, tenor = \\Delta T) = \\frac{ P(0,T_0) - P(0,T_0 + \\Delta T)}{\\sum_{i=1}^{T_0 + \\Delta T} \\Delta t_i P(0,T_i)} \\\n",
    " \\end{align}"
   ]
  },
  {
   "cell_type": "markdown",
   "metadata": {},
   "source": [
    " #### Swaption\n",
    " \\begin{align}\n",
    " \\ V_0 = ( FSR_0 (T_0, {\\Delta{T}}) N( d_1 ) - X N( d_2 ) ) \\bullet { \\sum_{ {i=1} }^{T} }\n",
    " \\end{align}"
   ]
  },
  {
   "cell_type": "markdown",
   "metadata": {},
   "source": [
    " \\begin{align}\n",
    " \\ V_0 = ( FSR_0 (T_0, {\\Delta{T}}) N( d_1 ) - X N( d_2 ) )  {\\sum} \n",
    " \\end{align}"
   ]
  },
  {
   "cell_type": "markdown",
   "metadata": {},
   "source": [
    " #### Swaption\n",
    " \\begin{align}\n",
    " \\ V_0 = (FSR_{0}(T_{0},  \\Delta {T}) N( d_{1} ) - X N( d_{2} )) \\sum_{{i=1}}^{{T_0 + \\Delta T}} \\Delta T_i P(0, T_i) \\\n",
    " \\end{align}"
   ]
  },
  {
   "cell_type": "code",
   "execution_count": 9,
   "metadata": {},
   "outputs": [],
   "source": [
    "def Forward_Swap_Rate(pricing_date, Discount, t0, tenor, freq_month_of_Discount = 3, hazard_rate = 0, Fixed_lag = False) :\n",
    "    t = t0 # t0 is Forward Maturity\n",
    "    lamb = hazard_rate\n",
    "    \n",
    "    DF = interpolated_DF(pricing_date, Discount, freq_month_of_Discount)\n",
    "    T0 = int(t*(12/freq_month_of_Discount))\n",
    "    T1 = T0 + int(tenor*(12/freq_month_of_Discount)) # Swap Maturity Date\n",
    "    dt = pd.Series(DF.index).diff().apply(lambda x : x.days).fillna((DF.index[0] - pricing_date).days)\n",
    "    DF_0_to_m = np.concatenate([[1],DF])[T0:T1+1]\n",
    "    Deltat = np.array(dt.iloc[T0:T1])/365\n",
    "    a = (DF_0_to_m[:-1] * np.exp(lamb * Deltat) - DF_0_to_m[1:]).sum()\n",
    "    b = (Deltat * np.array(DF)[T0:T1]).sum()\n",
    "    s = a/b\n",
    "    if Fixed_lag == False :\n",
    "        return s \n",
    "    else :\n",
    "        return s, b\n",
    "def Swaption(pricing_date, Discount, t0 , tenor, X, sigma, freq_month_of_Discount = 3, hazard_rate = 0) :\n",
    "    FSR, b = Forward_Swap_Rate(pricing_date, Discount, t0, tenor, freq_month_of_Discount, hazard_rate, Fixed_lag = True)\n",
    "    if t0 == 0 :\n",
    "        return max(FSR - X, 0) * b\n",
    "    else :\n",
    "        d1 = ( np.log(FSR/X) + 0.5 * sigma**2 * t0 )/ (sigma * np.sqrt(t0))\n",
    "        d2 = d1 - sigma * np.sqrt(t0)\n",
    "        Nd1 = norm.cdf(d1)\n",
    "        Nd2 = norm.cdf(d2)\n",
    "        V = FSR * Nd1 - X * Nd2\n",
    "        return V * b"
   ]
  },
  {
   "cell_type": "code",
   "execution_count": 10,
   "metadata": {},
   "outputs": [
    {
     "data": {
      "text/plain": [
       "0.00519942477943924"
      ]
     },
     "execution_count": 10,
     "metadata": {},
     "output_type": "execute_result"
    }
   ],
   "source": [
    "Swap_Rate(pricing_date, Discount, t = 2, freq_month_of_Discount = 3, hazard_rate = 0)"
   ]
  },
  {
   "cell_type": "code",
   "execution_count": 11,
   "metadata": {},
   "outputs": [
    {
     "data": {
      "text/plain": [
       "0.00519942477943924"
      ]
     },
     "execution_count": 11,
     "metadata": {},
     "output_type": "execute_result"
    }
   ],
   "source": [
    "Forward_Swap_Rate(pricing_date, Discount, t0= 0, tenor= 2, freq_month_of_Discount = 3, hazard_rate = 0)"
   ]
  },
  {
   "cell_type": "code",
   "execution_count": 12,
   "metadata": {},
   "outputs": [
    {
     "data": {
      "text/plain": [
       "0.005291966106261326"
      ]
     },
     "execution_count": 12,
     "metadata": {},
     "output_type": "execute_result"
    }
   ],
   "source": [
    "Forward_Swap_Rate(pricing_date, Discount, t0= 1, tenor= 3, freq_month_of_Discount = 3, hazard_rate = 0)"
   ]
  },
  {
   "cell_type": "code",
   "execution_count": 13,
   "metadata": {},
   "outputs": [
    {
     "data": {
      "text/plain": [
       "0.0008645330402783434"
      ]
     },
     "execution_count": 13,
     "metadata": {},
     "output_type": "execute_result"
    }
   ],
   "source": [
    "Swaption(pricing_date, Discount, t0= 1, tenor= 3,X = 0.005, sigma = 0.01, freq_month_of_Discount = 3, hazard_rate = 0)"
   ]
  },
  {
   "cell_type": "markdown",
   "metadata": {},
   "source": [
    "### 4. Caplet , Floorlet Pricing\n",
    "#### Caplet, Floorlet\n",
    " \\begin{align}\n",
    " \\ c(0) = \\Delta T \\times P(0,T+\\Delta T) [ f_0(T,T+\\Delta T) N(d_1) - X N (d_2)]\\\n",
    " \\\\\n",
    " \\\\\n",
    " \\ p(0) = \\Delta T \\times P(0,T+\\Delta T) [ X N (-d_2) - f_0(T,T+\\Delta T) N(-d_1)]\\\n",
    " \\\\ \\\\ \\ d_1 = \\frac{ln( \\frac{f_0(T,T+\\Delta T)}{X} ) + \\frac{1}{2} \\sigma^2 T}{\\sigma \\sqrt{T}} , \\ d_2 = d_1 - \\sigma \\sqrt{T} \\\n",
    " \\end{align}"
   ]
  },
  {
   "cell_type": "code",
   "execution_count": 14,
   "metadata": {},
   "outputs": [],
   "source": [
    "def Caplet_Pricing(pricing_date, Discount, t0, tenor, X, sigma, freq_month_of_Discount = 3) :\n",
    "    DF = interpolated_DF(pricing_date, Discount, freq_month_of_Discount)\n",
    "    T0 = int(t0*(12/freq_month_of_Discount))\n",
    "    T1 = T0 + int(tenor*(12/freq_month_of_Discount)) # Swap Maturity Date\n",
    "    dt = pd.Series(DF.index).diff().apply(lambda x : x.days).fillna((DF.index[0] - pricing_date).days)\n",
    "    P0 = np.concatenate([[1],np.array(DF)])[T0]\n",
    "    P1 = np.concatenate([[1],np.array(DF)])[T1]\n",
    "    DeltaT = (dt.iloc[T0:T1]).sum()/365\n",
    "    F = 1/DeltaT * (P0/P1-1)\n",
    "    d1 = ( np.log(F/X) + 0.5 * sigma**2 * t0 ) / (sigma * np.sqrt(t0) )\n",
    "    d2 = d1 - sigma * np.sqrt(t0)\n",
    "    C = DeltaT * DF.iloc[T1-1] * (F * norm.cdf(d1) - X *  norm.cdf(d2))    \n",
    "    return C\n",
    "\n",
    "def Floorlet_Pricing(pricing_date, Discount, t0, tenor, X, sigma, freq_month_of_Discount = 3) :\n",
    "    DF = interpolated_DF(pricing_date, Discount, freq_month_of_Discount)\n",
    "    T0 = int(t0*(12/freq_month_of_Discount))\n",
    "    T1 = T0 + int(tenor*(12/freq_month_of_Discount)) # Swap Maturity Date\n",
    "    dt = pd.Series(DF.index).diff().apply(lambda x : x.days).fillna((DF.index[0] - pricing_date).days)\n",
    "    P0 = np.concatenate([[1],np.array(DF)])[T0]\n",
    "    P1 = np.concatenate([[1],np.array(DF)])[T1]\n",
    "    DeltaT = (dt.iloc[T0:T1]).sum()/365\n",
    "    F = 1/DeltaT * (P0/P1-1)\n",
    "    d1 = ( np.log(F/X) + 0.5 * sigma**2 * t0 ) / (sigma * np.sqrt(t0) )\n",
    "    d2 = d1 - sigma * np.sqrt(t0)\n",
    "    P = DeltaT * DF.iloc[T1-1] * ( X * norm.cdf(-d2) - F * norm.cdf(-d1))    \n",
    "    return P"
   ]
  },
  {
   "cell_type": "code",
   "execution_count": 15,
   "metadata": {},
   "outputs": [
    {
     "data": {
      "text/plain": [
       "0.00031588918306713125"
      ]
     },
     "execution_count": 15,
     "metadata": {},
     "output_type": "execute_result"
    }
   ],
   "source": [
    "Caplet_Pricing(pricing_date, Discount, t0 = 1, tenor = 0.5, X = 0.003, sigma = 0.01, freq_month_of_Discount = 3)"
   ]
  },
  {
   "cell_type": "code",
   "execution_count": 16,
   "metadata": {},
   "outputs": [
    {
     "data": {
      "text/plain": [
       "0.00363168386151837"
      ]
     },
     "execution_count": 16,
     "metadata": {},
     "output_type": "execute_result"
    }
   ],
   "source": [
    "F_Rate(pricing_date, Discount, t0 = 1, tenor = 0.5)"
   ]
  },
  {
   "cell_type": "code",
   "execution_count": 17,
   "metadata": {},
   "outputs": [
    {
     "data": {
      "text/plain": [
       "0.00018418562066116538"
      ]
     },
     "execution_count": 17,
     "metadata": {},
     "output_type": "execute_result"
    }
   ],
   "source": [
    "Floorlet_Pricing(pricing_date, Discount, t0 = 1, tenor = 0.5, X = 0.004, sigma = 0.01, freq_month_of_Discount = 3)"
   ]
  },
  {
   "cell_type": "markdown",
   "metadata": {},
   "source": [
    " ### 5. Merton Credit Model\n",
    " \\begin{align}\n",
    " \\ E = A_{MKT} N(d_1) - F e^{-rT} N(d_2) .... ⓐ\\\\ \\\\\n",
    " \\ \\sigma_E = \\frac{A_{MKT}}{E} N(d_1) \\sigma_A.... ⓑ \\\\\n",
    " \\\\\n",
    " \\ Using \\ Simultanous \\ Equation \\\\\n",
    " \\ Find \\ Market \\ Value \\ of \\ Asset \\ and \\ Volatility\\ of \\ Asset \\ ( \\ \n",
    " A_{MKT} ,\\ \\sigma_E \\ ) \\\\ \\\\ PD = 1 - N( d_2 ) \\\n",
    " \\end{align}"
   ]
  },
  {
   "cell_type": "code",
   "execution_count": 18,
   "metadata": {},
   "outputs": [],
   "source": [
    "def Optimize_Merton(F,r,T,sigma_E,E_market_value) :\n",
    "    E_market = E_market_value\n",
    "    def EandsigmaE(x,F) :\n",
    "        sig_A = x[0]\n",
    "        A = x[1]\n",
    "        d1 = (np.log(A/F) + (r + 0.5 * sig_A**2)*T)/(sig_A * np.sqrt(T))\n",
    "        d2 = d1 - sig_A * np.sqrt(T)\n",
    "        Nd1 = norm.cdf(d1)\n",
    "        Nd2 = norm.cdf(d2)\n",
    "        E = A * Nd1 - F * np.exp(-r * T) * Nd2\n",
    "        sig_E = A/E * Nd1 * sig_A\n",
    "        return np.array([sig_E,E])\n",
    "    def fun(x,F,ans) :\n",
    "        return EandsigmaE(x,F) - ans\n",
    "\n",
    "    x0 = np.array([0.3, 10000])\n",
    "    ret = root(fun, x0, args = (F, np.array([sigma_E,E_market]) ) )\n",
    "    sigA, MV_Asset = ret.x[0], ret.x[1] ## Return sigA and Market Value of Asset\n",
    "    return np.round(sigA,4) , np.round(MV_Asset,4)\n",
    "\n",
    "def Merton_Debt_Value(F,r,T,sigma_E, E_market_value) :\n",
    "    sig_A , A = Optimize_Merton(F, r, T, sigma_E, E_market_value)\n",
    "    d1 = (np.log(A/F) + (r + 0.5 * sig_A**2)*T)/(sig_A * np.sqrt(T))\n",
    "    d2 = d1 - sig_A * np.sqrt(T)\n",
    "    Nd1 = norm.cdf(d1)\n",
    "    Nd2 = norm.cdf(d2)\n",
    "    E = A * Nd1 - F * np.exp(-r * T) * Nd2 \n",
    "    D = A-E\n",
    "    return D\n",
    "\n",
    "def Merton_Default_Prob(F,r,T,sigma_E, E_market_value) :\n",
    "    sig_A , A = Optimize_Merton(F, r, T, sigma_E, E_market_value)\n",
    "    d1 = (np.log(A/F) + (r + 0.5 * sig_A**2)*T)/(sig_A * np.sqrt(T))\n",
    "    d2 = d1 - sig_A * np.sqrt(T)\n",
    "    Nd1 = norm.cdf(d1)\n",
    "    Nd2 = norm.cdf(d2)\n",
    "    PD = 1 - Nd2\n",
    "    Annualized_PD = - 1/T * np.log(1-PD)\n",
    "    return Annualized_PD"
   ]
  },
  {
   "cell_type": "code",
   "execution_count": 19,
   "metadata": {},
   "outputs": [
    {
     "data": {
      "text/plain": [
       "0.003362667508384866"
      ]
     },
     "execution_count": 19,
     "metadata": {},
     "output_type": "execute_result"
    }
   ],
   "source": [
    "Merton_Default_Prob(F = 3000, r = 0.006, T = 5, sigma_E = 0.3, E_market_value = 5000)"
   ]
  },
  {
   "cell_type": "markdown",
   "metadata": {},
   "source": [
    " ### 6. Risky Bond Pricing or Riskless Bond Pricing\n",
    "#### Zero Coupon Bond\n",
    "\\begin{align}\n",
    " \\ Z(0,T) = e^{-(r+\\lambda)T} + RR \\bullet \\int_{0}^{T} Z(0,t) d(-Q(0,t)) \n",
    " \\\\ =P(0,T) Q(0,T) + RR \\bullet \\sum_{i = 1}^{m} Z(0,t_i)[Q(0,t_{i-1}) - Q(0,t_{i})] \\\n",
    " \\end{align}\n",
    "#### Coupon Bond\n",
    "\\begin{align}\n",
    "\\ CB = \\sum_{i=1}^{m}CF(t_i) \\bullet Z(0,t_i) \\\n",
    "\\end{align}"
   ]
  },
  {
   "cell_type": "code",
   "execution_count": 20,
   "metadata": {},
   "outputs": [],
   "source": [
    "def Zero_Bond(pricing_date, Discount,t, freq_month_of_Discount = 3,hazard_rate=0, Recovery = 0) :\n",
    "    RR = Recovery\n",
    "    DF = interpolated_DF(pricing_date, Discount, freq_month_of_Discount)\n",
    "    surv = np.exp(-hazard_rate * t)\n",
    "    T = int(12/freq_month_of_Discount * t)-1\n",
    "    P = DF.iloc[T]\n",
    "    value_at_nondefault = P * surv\n",
    "    \n",
    "    DeltaT = pd.Series(DF.index).diff().apply(lambda x : x.days).fillna((DF.index[0] - pricing_date).days)/365\n",
    "    Q = np.exp(-hazard_rate * DeltaT).cumprod()\n",
    "    Q.index = DF.index\n",
    "    dQ_ = np.concatenate([[1],np.array(Q)])[:-1] - np.concatenate([[1],np.array(Q)])[1:]\n",
    "    value_at_default = RR * (np.array(DF)[:T+1] * dQ_[:T+1]).sum()\n",
    "    return value_at_nondefault + value_at_default\n",
    "\n",
    "def Coupon_Bond(pricing_date, Discount,t, C_rate , \n",
    "                freq_month_of_Discount = 3,freq_month_of_Coupon = 6,\n",
    "                hazard_rate=0, Recovery = 0) :\n",
    "    dt =  freq_month_of_Coupon/12\n",
    "    Trange = np.arange(dt, t+dt, dt)\n",
    "    DF = interpolated_DF(pricing_date, Discount, freq_month_of_Discount)\n",
    "    n = int(freq_month_of_Coupon/freq_month_of_Discount)\n",
    "    Delta_T = np.array((pd.Series(DF.index[n-1::n]).diff().apply(lambda x : x.days).fillna((DF.index[n-1]- pricing_date).days)/365).iloc[:int(t * 12/freq_month_of_Coupon)])\n",
    "    price = 0\n",
    "    for ii, i in enumerate(Trange) :\n",
    "        price +=C_rate * Delta_T[ii] *Zero_Bond(pricing_date, Discount,i, freq_month_of_Discount,hazard_rate, Recovery)\n",
    "    price += Zero_Bond(pricing_date, Discount,Trange[-1], \n",
    "                       freq_month_of_Discount,hazard_rate, Recovery)\n",
    "    return price"
   ]
  },
  {
   "cell_type": "markdown",
   "metadata": {},
   "source": [
    " #### If Coupon Rate == Swap Rate :\n",
    " #### 　Coupon Bond Price = 1"
   ]
  },
  {
   "cell_type": "code",
   "execution_count": 21,
   "metadata": {},
   "outputs": [
    {
     "data": {
      "text/plain": [
       "1.0"
      ]
     },
     "execution_count": 21,
     "metadata": {},
     "output_type": "execute_result"
    }
   ],
   "source": [
    "C_rate = Swap_Rate(pricing_date, Discount, 3, freq_month_of_Discount = 3, hazard_rate = 0)\n",
    "CB = Coupon_Bond(pricing_date, Discount,t=3, C_rate=C_rate ,                  \n",
    "                 freq_month_of_Discount = 3,freq_month_of_Coupon = 3,\n",
    "                 hazard_rate=0, Recovery = 0)\n",
    "CB"
   ]
  },
  {
   "cell_type": "code",
   "execution_count": 22,
   "metadata": {},
   "outputs": [
    {
     "data": {
      "text/plain": [
       "0.9877387885844174"
      ]
     },
     "execution_count": 22,
     "metadata": {},
     "output_type": "execute_result"
    }
   ],
   "source": [
    "CB_risky = Coupon_Bond(pricing_date, Discount, t = 3, C_rate = 0.006,\n",
    "                      hazard_rate = 0.01, Recovery = 0.5) \n",
    "CB_risky"
   ]
  },
  {
   "cell_type": "code",
   "execution_count": null,
   "metadata": {},
   "outputs": [],
   "source": []
  }
 ],
 "metadata": {
  "kernelspec": {
   "display_name": "Python 3",
   "language": "python",
   "name": "python3"
  },
  "language_info": {
   "codemirror_mode": {
    "name": "ipython",
    "version": 3
   },
   "file_extension": ".py",
   "mimetype": "text/x-python",
   "name": "python",
   "nbconvert_exporter": "python",
   "pygments_lexer": "ipython3",
   "version": "3.7.6"
  }
 },
 "nbformat": 4,
 "nbformat_minor": 4
}
